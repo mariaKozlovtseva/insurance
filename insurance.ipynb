{
 "cells": [
  {
   "cell_type": "code",
   "execution_count": 0,
   "metadata": {
    "colab": {},
    "colab_type": "code",
    "id": "sBe8Q6-v-njD"
   },
   "outputs": [],
   "source": [
    "import pandas as pd\n",
    "import matplotlib.pyplot as plt\n",
    "import numpy as np\n",
    "import seaborn as sns\n",
    "%matplotlib inline"
   ]
  },
  {
   "cell_type": "code",
   "execution_count": 0,
   "metadata": {
    "colab": {},
    "colab_type": "code",
    "id": "MR8XerH8L8w8"
   },
   "outputs": [],
   "source": [
    "!pip install statsmodels"
   ]
  },
  {
   "cell_type": "markdown",
   "metadata": {
    "colab_type": "text",
    "id": "6ulusBc4_a-r"
   },
   "source": [
    "Getting our data and looking through the columns  "
   ]
  },
  {
   "cell_type": "code",
   "execution_count": 0,
   "metadata": {
    "colab": {},
    "colab_type": "code",
    "id": "Tr_Kygih_NQT"
   },
   "outputs": [],
   "source": [
    "data = pd.read_csv('insurance.csv')"
   ]
  },
  {
   "cell_type": "code",
   "execution_count": 6,
   "metadata": {
    "colab": {
     "base_uri": "https://localhost:8080/",
     "height": 202
    },
    "colab_type": "code",
    "id": "xPqcp74p_VwL",
    "outputId": "81753251-dd3b-45a8-a828-eb933fd19f1f"
   },
   "outputs": [
    {
     "data": {
      "text/html": [
       "<div>\n",
       "<style scoped>\n",
       "    .dataframe tbody tr th:only-of-type {\n",
       "        vertical-align: middle;\n",
       "    }\n",
       "\n",
       "    .dataframe tbody tr th {\n",
       "        vertical-align: top;\n",
       "    }\n",
       "\n",
       "    .dataframe thead th {\n",
       "        text-align: right;\n",
       "    }\n",
       "</style>\n",
       "<table border=\"1\" class=\"dataframe\">\n",
       "  <thead>\n",
       "    <tr style=\"text-align: right;\">\n",
       "      <th></th>\n",
       "      <th>age</th>\n",
       "      <th>sex</th>\n",
       "      <th>bmi</th>\n",
       "      <th>children</th>\n",
       "      <th>smoker</th>\n",
       "      <th>region</th>\n",
       "      <th>charges</th>\n",
       "    </tr>\n",
       "  </thead>\n",
       "  <tbody>\n",
       "    <tr>\n",
       "      <th>0</th>\n",
       "      <td>19</td>\n",
       "      <td>female</td>\n",
       "      <td>27.900</td>\n",
       "      <td>0</td>\n",
       "      <td>yes</td>\n",
       "      <td>southwest</td>\n",
       "      <td>16884.92400</td>\n",
       "    </tr>\n",
       "    <tr>\n",
       "      <th>1</th>\n",
       "      <td>18</td>\n",
       "      <td>male</td>\n",
       "      <td>33.770</td>\n",
       "      <td>1</td>\n",
       "      <td>no</td>\n",
       "      <td>southeast</td>\n",
       "      <td>1725.55230</td>\n",
       "    </tr>\n",
       "    <tr>\n",
       "      <th>2</th>\n",
       "      <td>28</td>\n",
       "      <td>male</td>\n",
       "      <td>33.000</td>\n",
       "      <td>3</td>\n",
       "      <td>no</td>\n",
       "      <td>southeast</td>\n",
       "      <td>4449.46200</td>\n",
       "    </tr>\n",
       "    <tr>\n",
       "      <th>3</th>\n",
       "      <td>33</td>\n",
       "      <td>male</td>\n",
       "      <td>22.705</td>\n",
       "      <td>0</td>\n",
       "      <td>no</td>\n",
       "      <td>northwest</td>\n",
       "      <td>21984.47061</td>\n",
       "    </tr>\n",
       "    <tr>\n",
       "      <th>4</th>\n",
       "      <td>32</td>\n",
       "      <td>male</td>\n",
       "      <td>28.880</td>\n",
       "      <td>0</td>\n",
       "      <td>no</td>\n",
       "      <td>northwest</td>\n",
       "      <td>3866.85520</td>\n",
       "    </tr>\n",
       "  </tbody>\n",
       "</table>\n",
       "</div>"
      ],
      "text/plain": [
       "   age     sex     bmi  children smoker     region      charges\n",
       "0   19  female  27.900         0    yes  southwest  16884.92400\n",
       "1   18    male  33.770         1     no  southeast   1725.55230\n",
       "2   28    male  33.000         3     no  southeast   4449.46200\n",
       "3   33    male  22.705         0     no  northwest  21984.47061\n",
       "4   32    male  28.880         0     no  northwest   3866.85520"
      ]
     },
     "execution_count": 6,
     "metadata": {
      "tags": []
     },
     "output_type": "execute_result"
    }
   ],
   "source": [
    "data.head()"
   ]
  },
  {
   "cell_type": "markdown",
   "metadata": {
    "colab_type": "text",
    "id": "4nY5BuhE_ko-"
   },
   "source": [
    "We have a target **(charges)** and 6 features. In the begging we'll make EDA (explore which features we should use, whether there are Nan values and etc.)"
   ]
  },
  {
   "cell_type": "code",
   "execution_count": 7,
   "metadata": {
    "colab": {
     "base_uri": "https://localhost:8080/",
     "height": 294
    },
    "colab_type": "code",
    "id": "CYFcVTqw_W_5",
    "outputId": "cb0a187e-1bbc-4444-e273-efad73502d3f"
   },
   "outputs": [
    {
     "data": {
      "text/html": [
       "<div>\n",
       "<style scoped>\n",
       "    .dataframe tbody tr th:only-of-type {\n",
       "        vertical-align: middle;\n",
       "    }\n",
       "\n",
       "    .dataframe tbody tr th {\n",
       "        vertical-align: top;\n",
       "    }\n",
       "\n",
       "    .dataframe thead th {\n",
       "        text-align: right;\n",
       "    }\n",
       "</style>\n",
       "<table border=\"1\" class=\"dataframe\">\n",
       "  <thead>\n",
       "    <tr style=\"text-align: right;\">\n",
       "      <th></th>\n",
       "      <th>age</th>\n",
       "      <th>bmi</th>\n",
       "      <th>children</th>\n",
       "      <th>charges</th>\n",
       "    </tr>\n",
       "  </thead>\n",
       "  <tbody>\n",
       "    <tr>\n",
       "      <th>count</th>\n",
       "      <td>1338.000000</td>\n",
       "      <td>1338.000000</td>\n",
       "      <td>1338.000000</td>\n",
       "      <td>1338.000000</td>\n",
       "    </tr>\n",
       "    <tr>\n",
       "      <th>mean</th>\n",
       "      <td>39.207025</td>\n",
       "      <td>30.663397</td>\n",
       "      <td>1.094918</td>\n",
       "      <td>13270.422265</td>\n",
       "    </tr>\n",
       "    <tr>\n",
       "      <th>std</th>\n",
       "      <td>14.049960</td>\n",
       "      <td>6.098187</td>\n",
       "      <td>1.205493</td>\n",
       "      <td>12110.011237</td>\n",
       "    </tr>\n",
       "    <tr>\n",
       "      <th>min</th>\n",
       "      <td>18.000000</td>\n",
       "      <td>15.960000</td>\n",
       "      <td>0.000000</td>\n",
       "      <td>1121.873900</td>\n",
       "    </tr>\n",
       "    <tr>\n",
       "      <th>25%</th>\n",
       "      <td>27.000000</td>\n",
       "      <td>26.296250</td>\n",
       "      <td>0.000000</td>\n",
       "      <td>4740.287150</td>\n",
       "    </tr>\n",
       "    <tr>\n",
       "      <th>50%</th>\n",
       "      <td>39.000000</td>\n",
       "      <td>30.400000</td>\n",
       "      <td>1.000000</td>\n",
       "      <td>9382.033000</td>\n",
       "    </tr>\n",
       "    <tr>\n",
       "      <th>75%</th>\n",
       "      <td>51.000000</td>\n",
       "      <td>34.693750</td>\n",
       "      <td>2.000000</td>\n",
       "      <td>16639.912515</td>\n",
       "    </tr>\n",
       "    <tr>\n",
       "      <th>max</th>\n",
       "      <td>64.000000</td>\n",
       "      <td>53.130000</td>\n",
       "      <td>5.000000</td>\n",
       "      <td>63770.428010</td>\n",
       "    </tr>\n",
       "  </tbody>\n",
       "</table>\n",
       "</div>"
      ],
      "text/plain": [
       "               age          bmi     children       charges\n",
       "count  1338.000000  1338.000000  1338.000000   1338.000000\n",
       "mean     39.207025    30.663397     1.094918  13270.422265\n",
       "std      14.049960     6.098187     1.205493  12110.011237\n",
       "min      18.000000    15.960000     0.000000   1121.873900\n",
       "25%      27.000000    26.296250     0.000000   4740.287150\n",
       "50%      39.000000    30.400000     1.000000   9382.033000\n",
       "75%      51.000000    34.693750     2.000000  16639.912515\n",
       "max      64.000000    53.130000     5.000000  63770.428010"
      ]
     },
     "execution_count": 7,
     "metadata": {
      "tags": []
     },
     "output_type": "execute_result"
    }
   ],
   "source": [
    "data.describe()"
   ]
  },
  {
   "cell_type": "markdown",
   "metadata": {
    "colab_type": "text",
    "id": "3OaW3szZAU3B"
   },
   "source": [
    "We have no missing values and that great!"
   ]
  },
  {
   "cell_type": "code",
   "execution_count": 8,
   "metadata": {
    "colab": {
     "base_uri": "https://localhost:8080/",
     "height": 156
    },
    "colab_type": "code",
    "id": "k6jyIw9OAAAL",
    "outputId": "c9944bc1-550c-40ea-e2f8-32a90c1720ad"
   },
   "outputs": [
    {
     "data": {
      "text/plain": [
       "age         0\n",
       "sex         0\n",
       "bmi         0\n",
       "children    0\n",
       "smoker      0\n",
       "region      0\n",
       "charges     0\n",
       "dtype: int64"
      ]
     },
     "execution_count": 8,
     "metadata": {
      "tags": []
     },
     "output_type": "execute_result"
    }
   ],
   "source": [
    "data.isna().sum()"
   ]
  },
  {
   "cell_type": "markdown",
   "metadata": {
    "colab_type": "text",
    "id": "P-lKkv3xSeIT"
   },
   "source": [
    "Let's look at the **outliers**. If we have them, then we should remove."
   ]
  },
  {
   "cell_type": "code",
   "execution_count": 9,
   "metadata": {
    "colab": {
     "base_uri": "https://localhost:8080/",
     "height": 297
    },
    "colab_type": "code",
    "id": "2XtYmAHcSdNd",
    "outputId": "9615080b-2cf2-416b-a983-ae8754524b24"
   },
   "outputs": [
    {
     "data": {
      "text/plain": [
       "<matplotlib.axes._subplots.AxesSubplot at 0x7f30c5ea88d0>"
      ]
     },
     "execution_count": 9,
     "metadata": {
      "tags": []
     },
     "output_type": "execute_result"
    },
    {
     "data": {
      "image/png": "[encoded data removed]",
      "text/plain": [
       "<Figure size 432x288 with 1 Axes>"
      ]
     },
     "metadata": {
      "needs_background": "light",
      "tags": []
     },
     "output_type": "display_data"
    }
   ],
   "source": [
    "sns.scatterplot(y=data.charges, x=data.age) # there are some at the charges of 50,000 and higher"
   ]
  },
  {
   "cell_type": "code",
   "execution_count": 10,
   "metadata": {
    "colab": {
     "base_uri": "https://localhost:8080/",
     "height": 297
    },
    "colab_type": "code",
    "id": "G4vKDS-MQcUP",
    "outputId": "24850146-c489-4f20-af92-c752d61a9c4e"
   },
   "outputs": [
    {
     "data": {
      "text/plain": [
       "<matplotlib.axes._subplots.AxesSubplot at 0x7f30c5deceb8>"
      ]
     },
     "execution_count": 10,
     "metadata": {
      "tags": []
     },
     "output_type": "execute_result"
    },
    {
     "data": {
      "image/png": "[encoded data removed]",
      "text/plain": [
       "<Figure size 432x288 with 1 Axes>"
      ]
     },
     "metadata": {
      "needs_background": "light",
      "tags": []
     },
     "output_type": "display_data"
    }
   ],
   "source": [
    "sns.scatterplot(y=data.charges, x=data.bmi) # there are some at the charges of 55,000 and higher"
   ]
  },
  {
   "cell_type": "code",
   "execution_count": 11,
   "metadata": {
    "colab": {
     "base_uri": "https://localhost:8080/",
     "height": 297
    },
    "colab_type": "code",
    "id": "68tvKrFyS7I8",
    "outputId": "f136ff33-27c0-4dcb-8345-36c68d074cec"
   },
   "outputs": [
    {
     "data": {
      "text/plain": [
       "<matplotlib.axes._subplots.AxesSubplot at 0x7f30c30af080>"
      ]
     },
     "execution_count": 11,
     "metadata": {
      "tags": []
     },
     "output_type": "execute_result"
    },
    {
     "data": {
      "image/png": "[encoded data removed]",
      "text/plain": [
       "<Figure size 432x288 with 1 Axes>"
      ]
     },
     "metadata": {
      "needs_background": "light",
      "tags": []
     },
     "output_type": "display_data"
    }
   ],
   "source": [
    "sns.scatterplot(y=data.charges, x=data.children) # there are some at the charges of 55,000 and higher"
   ]
  },
  {
   "cell_type": "markdown",
   "metadata": {
    "colab_type": "text",
    "id": "8TyZvuD3TENW"
   },
   "source": [
    "So let's remove charges above 55,000."
   ]
  },
  {
   "cell_type": "code",
   "execution_count": 12,
   "metadata": {
    "colab": {
     "base_uri": "https://localhost:8080/",
     "height": 202
    },
    "colab_type": "code",
    "id": "DmQHjdESPeGw",
    "outputId": "4946efec-ff4f-40f7-b61e-cfafa4acc3c1"
   },
   "outputs": [
    {
     "data": {
      "text/html": [
       "<div>\n",
       "<style scoped>\n",
       "    .dataframe tbody tr th:only-of-type {\n",
       "        vertical-align: middle;\n",
       "    }\n",
       "\n",
       "    .dataframe tbody tr th {\n",
       "        vertical-align: top;\n",
       "    }\n",
       "\n",
       "    .dataframe thead th {\n",
       "        text-align: right;\n",
       "    }\n",
       "</style>\n",
       "<table border=\"1\" class=\"dataframe\">\n",
       "  <thead>\n",
       "    <tr style=\"text-align: right;\">\n",
       "      <th></th>\n",
       "      <th>age</th>\n",
       "      <th>sex</th>\n",
       "      <th>bmi</th>\n",
       "      <th>children</th>\n",
       "      <th>smoker</th>\n",
       "      <th>region</th>\n",
       "      <th>charges</th>\n",
       "    </tr>\n",
       "  </thead>\n",
       "  <tbody>\n",
       "    <tr>\n",
       "      <th>543</th>\n",
       "      <td>54</td>\n",
       "      <td>female</td>\n",
       "      <td>47.410</td>\n",
       "      <td>0</td>\n",
       "      <td>yes</td>\n",
       "      <td>southeast</td>\n",
       "      <td>63770.42801</td>\n",
       "    </tr>\n",
       "    <tr>\n",
       "      <th>577</th>\n",
       "      <td>31</td>\n",
       "      <td>female</td>\n",
       "      <td>38.095</td>\n",
       "      <td>1</td>\n",
       "      <td>yes</td>\n",
       "      <td>northeast</td>\n",
       "      <td>58571.07448</td>\n",
       "    </tr>\n",
       "    <tr>\n",
       "      <th>819</th>\n",
       "      <td>33</td>\n",
       "      <td>female</td>\n",
       "      <td>35.530</td>\n",
       "      <td>0</td>\n",
       "      <td>yes</td>\n",
       "      <td>northwest</td>\n",
       "      <td>55135.40209</td>\n",
       "    </tr>\n",
       "    <tr>\n",
       "      <th>1230</th>\n",
       "      <td>52</td>\n",
       "      <td>male</td>\n",
       "      <td>34.485</td>\n",
       "      <td>3</td>\n",
       "      <td>yes</td>\n",
       "      <td>northwest</td>\n",
       "      <td>60021.39897</td>\n",
       "    </tr>\n",
       "    <tr>\n",
       "      <th>1300</th>\n",
       "      <td>45</td>\n",
       "      <td>male</td>\n",
       "      <td>30.360</td>\n",
       "      <td>0</td>\n",
       "      <td>yes</td>\n",
       "      <td>southeast</td>\n",
       "      <td>62592.87309</td>\n",
       "    </tr>\n",
       "  </tbody>\n",
       "</table>\n",
       "</div>"
      ],
      "text/plain": [
       "      age     sex     bmi  children smoker     region      charges\n",
       "543    54  female  47.410         0    yes  southeast  63770.42801\n",
       "577    31  female  38.095         1    yes  northeast  58571.07448\n",
       "819    33  female  35.530         0    yes  northwest  55135.40209\n",
       "1230   52    male  34.485         3    yes  northwest  60021.39897\n",
       "1300   45    male  30.360         0    yes  southeast  62592.87309"
      ]
     },
     "execution_count": 12,
     "metadata": {
      "tags": []
     },
     "output_type": "execute_result"
    }
   ],
   "source": [
    "data[data.charges>55000]"
   ]
  },
  {
   "cell_type": "code",
   "execution_count": 0,
   "metadata": {
    "colab": {},
    "colab_type": "code",
    "id": "-b9V4M38PN54"
   },
   "outputs": [],
   "source": [
    "data = data.drop(data[data.charges>55000].index)"
   ]
  },
  {
   "cell_type": "code",
   "execution_count": 14,
   "metadata": {
    "colab": {
     "base_uri": "https://localhost:8080/",
     "height": 35
    },
    "colab_type": "code",
    "id": "HE-xs-vMQJTo",
    "outputId": "77939a59-838e-4029-a328-f289174ab22a"
   },
   "outputs": [
    {
     "data": {
      "text/plain": [
       "(1333, 7)"
      ]
     },
     "execution_count": 14,
     "metadata": {
      "tags": []
     },
     "output_type": "execute_result"
    }
   ],
   "source": [
    "data.shape"
   ]
  },
  {
   "cell_type": "markdown",
   "metadata": {
    "colab_type": "text",
    "id": "j5Z716WJAxHx"
   },
   "source": [
    "When we look at the distribution of our target (**charges**) it has skewness. Let's take log of the target to make it look more like a normal distribution.\n",
    "\n",
    "---\n",
    "\n"
   ]
  },
  {
   "cell_type": "code",
   "execution_count": 15,
   "metadata": {
    "colab": {
     "base_uri": "https://localhost:8080/",
     "height": 307
    },
    "colab_type": "code",
    "id": "6BZ-8EoYARBR",
    "outputId": "ef6693d1-37c8-4ff6-f02d-79895c3e2e36"
   },
   "outputs": [
    {
     "data": {
      "text/plain": [
       "<matplotlib.axes._subplots.AxesSubplot at 0x7f30c30367b8>"
      ]
     },
     "execution_count": 15,
     "metadata": {
      "tags": []
     },
     "output_type": "execute_result"
    },
    {
     "data": {
      "image/png": "[encoded data removed]",
      "text/plain": [
       "<Figure size 432x288 with 1 Axes>"
      ]
     },
     "metadata": {
      "needs_background": "light",
      "tags": []
     },
     "output_type": "display_data"
    }
   ],
   "source": [
    "sns.distplot(data.charges)"
   ]
  },
  {
   "cell_type": "code",
   "execution_count": 17,
   "metadata": {
    "colab": {
     "base_uri": "https://localhost:8080/",
     "height": 35
    },
    "colab_type": "code",
    "id": "jl15xkjLBdaQ",
    "outputId": "fe7f3baa-3b74-4c57-e5e9-d9f61c32c6b7"
   },
   "outputs": [
    {
     "name": "stdout",
     "output_type": "stream",
     "text": [
      "Skewness: 1.4556754769102132, kurtosis: 1.272300224454872\n"
     ]
    }
   ],
   "source": [
    "from scipy.stats import kurtosis\n",
    "from scipy.stats import skew\n",
    "print('Skewness: {}, kurtosis: {}'.format(skew(data.charges), kurtosis(data.charges)))"
   ]
  },
  {
   "cell_type": "code",
   "execution_count": 0,
   "metadata": {
    "colab": {},
    "colab_type": "code",
    "id": "Ahb5zgLqAeQR"
   },
   "outputs": [],
   "source": [
    "data['log_charges'] = np.log(data.charges)"
   ]
  },
  {
   "cell_type": "code",
   "execution_count": 22,
   "metadata": {
    "colab": {
     "base_uri": "https://localhost:8080/",
     "height": 299
    },
    "colab_type": "code",
    "id": "1s_rRQQpAndG",
    "outputId": "96974a6a-2adf-42eb-a723-b177ec615a56"
   },
   "outputs": [
    {
     "data": {
      "text/plain": [
       "<matplotlib.axes._subplots.AxesSubplot at 0x7f30c2f5c908>"
      ]
     },
     "execution_count": 22,
     "metadata": {
      "tags": []
     },
     "output_type": "execute_result"
    },
    {
     "data": {
      "image/png": "[encoded data removed]",
      "text/plain": [
       "<Figure size 432x288 with 1 Axes>"
      ]
     },
     "metadata": {
      "needs_background": "light",
      "tags": []
     },
     "output_type": "display_data"
    }
   ],
   "source": [
    "sns.distplot(data.log_charges)"
   ]
  },
  {
   "cell_type": "markdown",
   "metadata": {
    "colab_type": "text",
    "id": "JTB4PTAwBtjF"
   },
   "source": [
    "Much better!"
   ]
  },
  {
   "cell_type": "code",
   "execution_count": 20,
   "metadata": {
    "colab": {
     "base_uri": "https://localhost:8080/",
     "height": 35
    },
    "colab_type": "code",
    "id": "fQF3nqB1AseS",
    "outputId": "668a1041-f4ee-43bd-daba-aded46649ba1"
   },
   "outputs": [
    {
     "name": "stdout",
     "output_type": "stream",
     "text": [
      "Skewness: -0.10256011481080615, kurtosis: -0.6445237482389592\n"
     ]
    }
   ],
   "source": [
    "print('Skewness: {}, kurtosis: {}'.format(skew(data.log_charges), kurtosis(data.log_charges)))"
   ]
  },
  {
   "cell_type": "markdown",
   "metadata": {
    "colab_type": "text",
    "id": "MH3uQYnsC0qa"
   },
   "source": [
    "We've done with the target. Let's start with feature preprocessing. In the dataset there are less smokers, approximately the same number of male and female. As you see region's distribution doesnt't differ much. But we'll back to it in our correlation matrix."
   ]
  },
  {
   "cell_type": "code",
   "execution_count": 555,
   "metadata": {
    "colab": {
     "base_uri": "https://localhost:8080/",
     "height": 1000
    },
    "colab_type": "code",
    "id": "rsgaP6HmDosf",
    "outputId": "abf7a4c4-4283-41e1-e516-89c2cac8d66a"
   },
   "outputs": [
    {
     "data": {
      "image/png": "[encoded data removed]",
      "text/plain": [
       "<Figure size 720x1800 with 4 Axes>"
      ]
     },
     "metadata": {
      "needs_background": "light",
      "tags": []
     },
     "output_type": "display_data"
    }
   ],
   "source": [
    "features = ['children','smoker','sex','region']\n",
    "fig, axes = plt.subplots(nrows=4, ncols=1, figsize=(10, 25))\n",
    "for idx, f in enumerate(features):\n",
    "  sns.countplot(data[f], ax=axes[idx])\n",
    "  axes[idx].set_xlabel(size = 15, xlabel=f)\n",
    "  axes[idx].set_ylabel(size = 15, ylabel='count')\n",
    "  axes[idx].tick_params(axis='both', labelsize=15)\n",
    "plt.show()"
   ]
  },
  {
   "cell_type": "markdown",
   "metadata": {
    "colab_type": "text",
    "id": "zEkp2rD2wuLx"
   },
   "source": [
    "Now le's look at the **age**, which is also a continuous variable. At first we must normalize it. "
   ]
  },
  {
   "cell_type": "code",
   "execution_count": 23,
   "metadata": {
    "colab": {
     "base_uri": "https://localhost:8080/",
     "height": 297
    },
    "colab_type": "code",
    "id": "berywKgvwWws",
    "outputId": "16ac229a-e920-4369-c060-43cb77fc7374"
   },
   "outputs": [
    {
     "name": "stdout",
     "output_type": "stream",
     "text": [
      "Skewness: 0.057429174455533166, kurtosis: -1.2458850561030326\n"
     ]
    },
    {
     "data": {
      "image/png": "[encoded data removed]",
      "text/plain": [
       "<Figure size 432x288 with 1 Axes>"
      ]
     },
     "metadata": {
      "needs_background": "light",
      "tags": []
     },
     "output_type": "display_data"
    }
   ],
   "source": [
    "sns.distplot(data.age)\n",
    "print('Skewness: {}, kurtosis: {}'.format(skew(data.age), kurtosis(data.age)))"
   ]
  },
  {
   "cell_type": "code",
   "execution_count": 0,
   "metadata": {
    "colab": {},
    "colab_type": "code",
    "id": "XJsfXInDVj7N"
   },
   "outputs": [],
   "source": [
    "def normalize(feature):\n",
    "  normalized_feature = (feature - np.mean(feature)) / np.std(feature)\n",
    "  return normalized_feature"
   ]
  },
  {
   "cell_type": "code",
   "execution_count": 0,
   "metadata": {
    "colab": {},
    "colab_type": "code",
    "id": "Z4u0nJcdWiTC"
   },
   "outputs": [],
   "source": [
    "data['age_norm'] = normalize(data.age)"
   ]
  },
  {
   "cell_type": "code",
   "execution_count": 31,
   "metadata": {
    "colab": {
     "base_uri": "https://localhost:8080/",
     "height": 297
    },
    "colab_type": "code",
    "id": "Pfybssf2W3Jr",
    "outputId": "cefa93d1-0730-40bd-c224-6795cf471065"
   },
   "outputs": [
    {
     "data": {
      "text/plain": [
       "<matplotlib.axes._subplots.AxesSubplot at 0x7f30c2bcc240>"
      ]
     },
     "execution_count": 31,
     "metadata": {
      "tags": []
     },
     "output_type": "execute_result"
    },
    {
     "data": {
      "image/png": "[encoded data removed]",
      "text/plain": [
       "<Figure size 432x288 with 1 Axes>"
      ]
     },
     "metadata": {
      "needs_background": "light",
      "tags": []
     },
     "output_type": "display_data"
    }
   ],
   "source": [
    "sns.distplot(data.age_norm)"
   ]
  },
  {
   "cell_type": "markdown",
   "metadata": {
    "colab_type": "text",
    "id": "maHspJQ-yTb9"
   },
   "source": [
    "For deeper visualisation let's cut **age** into bins. So the minimum age is 18 and the maximum is 64. I've cut age into 5 bins."
   ]
  },
  {
   "cell_type": "code",
   "execution_count": 0,
   "metadata": {
    "colab": {},
    "colab_type": "code",
    "id": "S9fCDwp2y3Sz"
   },
   "outputs": [],
   "source": [
    "labels = ['adolescent','young_adult','middle_adult', 'old_person']\n",
    "bins = [17, 20, 35, 50, 65]\n",
    "data['age_binned']=pd.cut(data.age, bins=bins, labels=labels)"
   ]
  },
  {
   "cell_type": "markdown",
   "metadata": {
    "colab_type": "text",
    "id": "EOL0wIeF4SPc"
   },
   "source": [
    "And the last feature is **bmi**. And its distribution perfectly resembles normal distibution. I've normalized it also. "
   ]
  },
  {
   "cell_type": "code",
   "execution_count": 38,
   "metadata": {
    "colab": {
     "base_uri": "https://localhost:8080/",
     "height": 297
    },
    "colab_type": "code",
    "id": "qG0OxTGE39gG",
    "outputId": "ed514f18-430f-4e38-b6e6-7001aea5177c"
   },
   "outputs": [
    {
     "name": "stdout",
     "output_type": "stream",
     "text": [
      "Skewness: 0.28089613013374637, kurtosis: -0.06201919401529832\n"
     ]
    },
    {
     "data": {
      "image/png": "[encoded data removed]",
      "text/plain": [
       "<Figure size 432x288 with 1 Axes>"
      ]
     },
     "metadata": {
      "needs_background": "light",
      "tags": []
     },
     "output_type": "display_data"
    }
   ],
   "source": [
    "sns.distplot(data.bmi)\n",
    "print('Skewness: {}, kurtosis: {}'.format(skew(data.bmi), kurtosis(data.bmi)))"
   ]
  },
  {
   "cell_type": "code",
   "execution_count": 0,
   "metadata": {
    "colab": {},
    "colab_type": "code",
    "id": "T2AGtfFkX0lk"
   },
   "outputs": [],
   "source": [
    "data['bmi_norm'] = normalize(data.bmi)"
   ]
  },
  {
   "cell_type": "markdown",
   "metadata": {
    "colab_type": "text",
    "id": "7ydK0Z0D-RSV"
   },
   "source": [
    "Perhaps, we can improve our model if we cut bmi into bins as age too. And if we come back to the description of dataset we'll find out that the min value of mbi is 15.6 (underweight) and max - 53 (high obesity)."
   ]
  },
  {
   "cell_type": "code",
   "execution_count": 0,
   "metadata": {
    "colab": {},
    "colab_type": "code",
    "id": "z4nj7vfG6OMq"
   },
   "outputs": [],
   "source": [
    "labels_bmi = ['underweight', 'healthy', 'overweight', 'obesity']\n",
    "bins_bmi = [0, 18.5, 24.9, 29.9, 60]\n",
    "data['bmi_binned'] = pd.cut(data.bmi, bins=bins_bmi, labels=labels_bmi)"
   ]
  },
  {
   "cell_type": "code",
   "execution_count": 253,
   "metadata": {
    "colab": {
     "base_uri": "https://localhost:8080/",
     "height": 415
    },
    "colab_type": "code",
    "id": "SirFS_BS6Ywc",
    "outputId": "9f56aa91-ac06-49ae-e9ad-3836e27b28a8"
   },
   "outputs": [
    {
     "data": {
      "text/html": [
       "<div>\n",
       "<style scoped>\n",
       "    .dataframe tbody tr th:only-of-type {\n",
       "        vertical-align: middle;\n",
       "    }\n",
       "\n",
       "    .dataframe tbody tr th {\n",
       "        vertical-align: top;\n",
       "    }\n",
       "\n",
       "    .dataframe thead th {\n",
       "        text-align: right;\n",
       "    }\n",
       "</style>\n",
       "<table border=\"1\" class=\"dataframe\">\n",
       "  <thead>\n",
       "    <tr style=\"text-align: right;\">\n",
       "      <th></th>\n",
       "      <th>bmi</th>\n",
       "      <th>bmi_binned</th>\n",
       "    </tr>\n",
       "  </thead>\n",
       "  <tbody>\n",
       "    <tr>\n",
       "      <th>0</th>\n",
       "      <td>27.900</td>\n",
       "      <td>overweight</td>\n",
       "    </tr>\n",
       "    <tr>\n",
       "      <th>1</th>\n",
       "      <td>33.770</td>\n",
       "      <td>obesity</td>\n",
       "    </tr>\n",
       "    <tr>\n",
       "      <th>2</th>\n",
       "      <td>33.000</td>\n",
       "      <td>obesity</td>\n",
       "    </tr>\n",
       "    <tr>\n",
       "      <th>3</th>\n",
       "      <td>22.705</td>\n",
       "      <td>healthy</td>\n",
       "    </tr>\n",
       "    <tr>\n",
       "      <th>4</th>\n",
       "      <td>28.880</td>\n",
       "      <td>overweight</td>\n",
       "    </tr>\n",
       "    <tr>\n",
       "      <th>...</th>\n",
       "      <td>...</td>\n",
       "      <td>...</td>\n",
       "    </tr>\n",
       "    <tr>\n",
       "      <th>1333</th>\n",
       "      <td>30.970</td>\n",
       "      <td>obesity</td>\n",
       "    </tr>\n",
       "    <tr>\n",
       "      <th>1334</th>\n",
       "      <td>31.920</td>\n",
       "      <td>obesity</td>\n",
       "    </tr>\n",
       "    <tr>\n",
       "      <th>1335</th>\n",
       "      <td>36.850</td>\n",
       "      <td>obesity</td>\n",
       "    </tr>\n",
       "    <tr>\n",
       "      <th>1336</th>\n",
       "      <td>25.800</td>\n",
       "      <td>overweight</td>\n",
       "    </tr>\n",
       "    <tr>\n",
       "      <th>1337</th>\n",
       "      <td>29.070</td>\n",
       "      <td>overweight</td>\n",
       "    </tr>\n",
       "  </tbody>\n",
       "</table>\n",
       "<p>1333 rows × 2 columns</p>\n",
       "</div>"
      ],
      "text/plain": [
       "         bmi  bmi_binned\n",
       "0     27.900  overweight\n",
       "1     33.770     obesity\n",
       "2     33.000     obesity\n",
       "3     22.705     healthy\n",
       "4     28.880  overweight\n",
       "...      ...         ...\n",
       "1333  30.970     obesity\n",
       "1334  31.920     obesity\n",
       "1335  36.850     obesity\n",
       "1336  25.800  overweight\n",
       "1337  29.070  overweight\n",
       "\n",
       "[1333 rows x 2 columns]"
      ]
     },
     "execution_count": 253,
     "metadata": {
      "tags": []
     },
     "output_type": "execute_result"
    }
   ],
   "source": [
    "data.loc[:,['bmi','bmi_binned']]"
   ]
  },
  {
   "cell_type": "markdown",
   "metadata": {
    "colab_type": "text",
    "id": "sfW4HnRa8VrZ"
   },
   "source": [
    "To sum up, in the dataset we have twice higher people with obesity than with healty weight. The role of smoking isn't significant and adolescents tend to suffer less from obesity."
   ]
  },
  {
   "cell_type": "code",
   "execution_count": 43,
   "metadata": {
    "colab": {
     "base_uri": "https://localhost:8080/",
     "height": 297
    },
    "colab_type": "code",
    "id": "IybGsUuT8QYd",
    "outputId": "8ed5422c-f13c-4bd9-e71b-589c6f817597"
   },
   "outputs": [
    {
     "data": {
      "text/plain": [
       "<matplotlib.axes._subplots.AxesSubplot at 0x7f30c15899b0>"
      ]
     },
     "execution_count": 43,
     "metadata": {
      "tags": []
     },
     "output_type": "execute_result"
    },
    {
     "data": {
      "image/png": "[encoded data removed]",
      "text/plain": [
       "<Figure size 432x288 with 1 Axes>"
      ]
     },
     "metadata": {
      "needs_background": "light",
      "tags": []
     },
     "output_type": "display_data"
    }
   ],
   "source": [
    "sns.countplot(data.bmi_binned, hue=data.smoker)"
   ]
  },
  {
   "cell_type": "code",
   "execution_count": 45,
   "metadata": {
    "colab": {
     "base_uri": "https://localhost:8080/",
     "height": 297
    },
    "colab_type": "code",
    "id": "n44Gjq_VaFow",
    "outputId": "8f4e6b97-b5ba-45d0-83f2-d0e3f4155352"
   },
   "outputs": [
    {
     "data": {
      "text/plain": [
       "<matplotlib.axes._subplots.AxesSubplot at 0x7f30c5e7df98>"
      ]
     },
     "execution_count": 45,
     "metadata": {
      "tags": []
     },
     "output_type": "execute_result"
    },
    {
     "data": {
      "image/png": "[encoded data removed]",
      "text/plain": [
       "<Figure size 432x288 with 1 Axes>"
      ]
     },
     "metadata": {
      "needs_background": "light",
      "tags": []
     },
     "output_type": "display_data"
    }
   ],
   "source": [
    "sns.countplot(data.age_binned, hue=data.bmi_binned)"
   ]
  },
  {
   "cell_type": "markdown",
   "metadata": {
    "colab_type": "text",
    "id": "pS0DZ6NI-vBa"
   },
   "source": [
    "And let's make **children** feature more specific. If someone has 1 and more children, than - 'yes', if not - 'no'. Because I don't think that the amount of children plays a big role in charges."
   ]
  },
  {
   "cell_type": "code",
   "execution_count": 0,
   "metadata": {
    "colab": {},
    "colab_type": "code",
    "id": "BWX-8HCv-esq"
   },
   "outputs": [],
   "source": [
    "labels_children = ['no', 'yes']\n",
    "bins_children = [0,1,6]\n",
    "data['have_children'] = pd.cut(data.children, bins=bins_children, labels=labels_children, right=False)"
   ]
  },
  {
   "cell_type": "markdown",
   "metadata": {
    "colab_type": "text",
    "id": "Ahacmd2eZOZ9"
   },
   "source": [
    "And you can see that adults tend to have children (of course it's obvious)."
   ]
  },
  {
   "cell_type": "code",
   "execution_count": 48,
   "metadata": {
    "colab": {
     "base_uri": "https://localhost:8080/",
     "height": 297
    },
    "colab_type": "code",
    "id": "uRqE-wkXY3vj",
    "outputId": "71ef6be5-6ea9-4a10-a9d9-393c0ee8d05f"
   },
   "outputs": [
    {
     "data": {
      "text/plain": [
       "<matplotlib.axes._subplots.AxesSubplot at 0x7f30c1857080>"
      ]
     },
     "execution_count": 48,
     "metadata": {
      "tags": []
     },
     "output_type": "execute_result"
    },
    {
     "data": {
      "image/png": "[encoded data removed]",
      "text/plain": [
       "<Figure size 432x288 with 1 Axes>"
      ]
     },
     "metadata": {
      "needs_background": "light",
      "tags": []
     },
     "output_type": "display_data"
    }
   ],
   "source": [
    "sns.countplot(data.age_binned, hue=data.have_children)"
   ]
  },
  {
   "cell_type": "markdown",
   "metadata": {
    "colab_type": "text",
    "id": "rx4MUuAyZqP7"
   },
   "source": [
    "By far we've expanded our dataset. The last step is to convert categotical features into numerical and choose which features we are going to use to train our model."
   ]
  },
  {
   "cell_type": "code",
   "execution_count": 50,
   "metadata": {
    "colab": {
     "base_uri": "https://localhost:8080/",
     "height": 260
    },
    "colab_type": "code",
    "id": "ch4iqIQfgomg",
    "outputId": "0be565cb-2c0a-4046-a43f-48338e04e044"
   },
   "outputs": [
    {
     "data": {
      "text/plain": [
       "age                 int64\n",
       "sex                object\n",
       "bmi               float64\n",
       "children            int64\n",
       "smoker             object\n",
       "region             object\n",
       "charges           float64\n",
       "log_charges       float64\n",
       "age_norm          float64\n",
       "age_binned       category\n",
       "bmi_norm          float64\n",
       "bmi_binned       category\n",
       "have_children    category\n",
       "dtype: object"
      ]
     },
     "execution_count": 50,
     "metadata": {
      "tags": []
     },
     "output_type": "execute_result"
    }
   ],
   "source": [
    "data.dtypes"
   ]
  },
  {
   "cell_type": "code",
   "execution_count": 0,
   "metadata": {
    "colab": {},
    "colab_type": "code",
    "id": "7bcumJJqTZgv"
   },
   "outputs": [],
   "source": [
    "y = data.log_charges #let's extract our target and delete log_charges and chrages from dataset"
   ]
  },
  {
   "cell_type": "code",
   "execution_count": 0,
   "metadata": {
    "colab": {},
    "colab_type": "code",
    "id": "Ic5GPQRbTk6-"
   },
   "outputs": [],
   "source": [
    "data.drop(['log_charges', 'charges'], axis=1, inplace=True)"
   ]
  },
  {
   "cell_type": "code",
   "execution_count": 0,
   "metadata": {
    "colab": {},
    "colab_type": "code",
    "id": "OBIbYbKz8-rH"
   },
   "outputs": [],
   "source": [
    "cat_features = data.select_dtypes(include=['object','category'])\n",
    "num_features = data.select_dtypes(include=['int64', 'float64'])"
   ]
  },
  {
   "cell_type": "code",
   "execution_count": 62,
   "metadata": {
    "colab": {
     "base_uri": "https://localhost:8080/",
     "height": 202
    },
    "colab_type": "code",
    "id": "sD2EW4cRTvVj",
    "outputId": "cb0db79c-e88c-40c2-e10e-3e7ec4c42a8e"
   },
   "outputs": [
    {
     "data": {
      "text/html": [
       "<div>\n",
       "<style scoped>\n",
       "    .dataframe tbody tr th:only-of-type {\n",
       "        vertical-align: middle;\n",
       "    }\n",
       "\n",
       "    .dataframe tbody tr th {\n",
       "        vertical-align: top;\n",
       "    }\n",
       "\n",
       "    .dataframe thead th {\n",
       "        text-align: right;\n",
       "    }\n",
       "</style>\n",
       "<table border=\"1\" class=\"dataframe\">\n",
       "  <thead>\n",
       "    <tr style=\"text-align: right;\">\n",
       "      <th></th>\n",
       "      <th>age</th>\n",
       "      <th>bmi</th>\n",
       "      <th>children</th>\n",
       "      <th>age_norm</th>\n",
       "      <th>bmi_norm</th>\n",
       "    </tr>\n",
       "  </thead>\n",
       "  <tbody>\n",
       "    <tr>\n",
       "      <th>0</th>\n",
       "      <td>19</td>\n",
       "      <td>27.900</td>\n",
       "      <td>0</td>\n",
       "      <td>-1.436484</td>\n",
       "      <td>-0.450173</td>\n",
       "    </tr>\n",
       "    <tr>\n",
       "      <th>1</th>\n",
       "      <td>18</td>\n",
       "      <td>33.770</td>\n",
       "      <td>1</td>\n",
       "      <td>-1.507623</td>\n",
       "      <td>0.514611</td>\n",
       "    </tr>\n",
       "    <tr>\n",
       "      <th>2</th>\n",
       "      <td>28</td>\n",
       "      <td>33.000</td>\n",
       "      <td>3</td>\n",
       "      <td>-0.796238</td>\n",
       "      <td>0.388055</td>\n",
       "    </tr>\n",
       "    <tr>\n",
       "      <th>3</th>\n",
       "      <td>33</td>\n",
       "      <td>22.705</td>\n",
       "      <td>0</td>\n",
       "      <td>-0.440546</td>\n",
       "      <td>-1.304015</td>\n",
       "    </tr>\n",
       "    <tr>\n",
       "      <th>4</th>\n",
       "      <td>32</td>\n",
       "      <td>28.880</td>\n",
       "      <td>0</td>\n",
       "      <td>-0.511684</td>\n",
       "      <td>-0.289101</td>\n",
       "    </tr>\n",
       "  </tbody>\n",
       "</table>\n",
       "</div>"
      ],
      "text/plain": [
       "   age     bmi  children  age_norm  bmi_norm\n",
       "0   19  27.900         0 -1.436484 -0.450173\n",
       "1   18  33.770         1 -1.507623  0.514611\n",
       "2   28  33.000         3 -0.796238  0.388055\n",
       "3   33  22.705         0 -0.440546 -1.304015\n",
       "4   32  28.880         0 -0.511684 -0.289101"
      ]
     },
     "execution_count": 62,
     "metadata": {
      "tags": []
     },
     "output_type": "execute_result"
    }
   ],
   "source": [
    "num_features.head()"
   ]
  },
  {
   "cell_type": "markdown",
   "metadata": {
    "colab_type": "text",
    "id": "0FbPim3yT5x9"
   },
   "source": [
    "I'll drop **children** (because I think it's less important than feature **have_children**), **bmi** and **age** - as we have normalized these features."
   ]
  },
  {
   "cell_type": "code",
   "execution_count": 0,
   "metadata": {
    "colab": {},
    "colab_type": "code",
    "id": "HjJOzPtxT4mt"
   },
   "outputs": [],
   "source": [
    "num_features = num_features.iloc[:, 3:]"
   ]
  },
  {
   "cell_type": "code",
   "execution_count": 255,
   "metadata": {
    "colab": {
     "base_uri": "https://localhost:8080/",
     "height": 202
    },
    "colab_type": "code",
    "id": "NCuZY7MRUvSL",
    "outputId": "d386eb8e-2c02-4377-b09f-98cb25f128d1"
   },
   "outputs": [
    {
     "data": {
      "text/html": [
       "<div>\n",
       "<style scoped>\n",
       "    .dataframe tbody tr th:only-of-type {\n",
       "        vertical-align: middle;\n",
       "    }\n",
       "\n",
       "    .dataframe tbody tr th {\n",
       "        vertical-align: top;\n",
       "    }\n",
       "\n",
       "    .dataframe thead th {\n",
       "        text-align: right;\n",
       "    }\n",
       "</style>\n",
       "<table border=\"1\" class=\"dataframe\">\n",
       "  <thead>\n",
       "    <tr style=\"text-align: right;\">\n",
       "      <th></th>\n",
       "      <th>age_norm</th>\n",
       "      <th>bmi_norm</th>\n",
       "    </tr>\n",
       "  </thead>\n",
       "  <tbody>\n",
       "    <tr>\n",
       "      <th>0</th>\n",
       "      <td>-1.436484</td>\n",
       "      <td>-0.450173</td>\n",
       "    </tr>\n",
       "    <tr>\n",
       "      <th>1</th>\n",
       "      <td>-1.507623</td>\n",
       "      <td>0.514611</td>\n",
       "    </tr>\n",
       "    <tr>\n",
       "      <th>2</th>\n",
       "      <td>-0.796238</td>\n",
       "      <td>0.388055</td>\n",
       "    </tr>\n",
       "    <tr>\n",
       "      <th>3</th>\n",
       "      <td>-0.440546</td>\n",
       "      <td>-1.304015</td>\n",
       "    </tr>\n",
       "    <tr>\n",
       "      <th>4</th>\n",
       "      <td>-0.511684</td>\n",
       "      <td>-0.289101</td>\n",
       "    </tr>\n",
       "  </tbody>\n",
       "</table>\n",
       "</div>"
      ],
      "text/plain": [
       "   age_norm  bmi_norm\n",
       "0 -1.436484 -0.450173\n",
       "1 -1.507623  0.514611\n",
       "2 -0.796238  0.388055\n",
       "3 -0.440546 -1.304015\n",
       "4 -0.511684 -0.289101"
      ]
     },
     "execution_count": 255,
     "metadata": {
      "tags": []
     },
     "output_type": "execute_result"
    }
   ],
   "source": [
    "num_features.head()"
   ]
  },
  {
   "cell_type": "markdown",
   "metadata": {
    "colab_type": "text",
    "id": "wSsGZawrAjWg"
   },
   "source": [
    "Now categorical features. We'll drop **region** and make dummy variables for the other categorical features."
   ]
  },
  {
   "cell_type": "code",
   "execution_count": 0,
   "metadata": {
    "colab": {},
    "colab_type": "code",
    "id": "PsFVeDm6Aihm"
   },
   "outputs": [],
   "source": [
    "cat_features.drop('region', axis=1, inplace=True)"
   ]
  },
  {
   "cell_type": "code",
   "execution_count": 304,
   "metadata": {
    "colab": {
     "base_uri": "https://localhost:8080/",
     "height": 202
    },
    "colab_type": "code",
    "id": "DgtgD9VxTxnB",
    "outputId": "a6a2ffc0-a5c6-4300-b21a-b49f0094265c"
   },
   "outputs": [
    {
     "data": {
      "text/html": [
       "<div>\n",
       "<style scoped>\n",
       "    .dataframe tbody tr th:only-of-type {\n",
       "        vertical-align: middle;\n",
       "    }\n",
       "\n",
       "    .dataframe tbody tr th {\n",
       "        vertical-align: top;\n",
       "    }\n",
       "\n",
       "    .dataframe thead th {\n",
       "        text-align: right;\n",
       "    }\n",
       "</style>\n",
       "<table border=\"1\" class=\"dataframe\">\n",
       "  <thead>\n",
       "    <tr style=\"text-align: right;\">\n",
       "      <th></th>\n",
       "      <th>sex</th>\n",
       "      <th>smoker</th>\n",
       "      <th>have_children</th>\n",
       "      <th>age_binned</th>\n",
       "      <th>bmi_binned</th>\n",
       "    </tr>\n",
       "  </thead>\n",
       "  <tbody>\n",
       "    <tr>\n",
       "      <th>0</th>\n",
       "      <td>female</td>\n",
       "      <td>yes</td>\n",
       "      <td>no</td>\n",
       "      <td>adolescent</td>\n",
       "      <td>overweight</td>\n",
       "    </tr>\n",
       "    <tr>\n",
       "      <th>1</th>\n",
       "      <td>male</td>\n",
       "      <td>no</td>\n",
       "      <td>yes</td>\n",
       "      <td>adolescent</td>\n",
       "      <td>obesity</td>\n",
       "    </tr>\n",
       "    <tr>\n",
       "      <th>2</th>\n",
       "      <td>male</td>\n",
       "      <td>no</td>\n",
       "      <td>yes</td>\n",
       "      <td>young_adult</td>\n",
       "      <td>obesity</td>\n",
       "    </tr>\n",
       "    <tr>\n",
       "      <th>3</th>\n",
       "      <td>male</td>\n",
       "      <td>no</td>\n",
       "      <td>no</td>\n",
       "      <td>young_adult</td>\n",
       "      <td>healthy</td>\n",
       "    </tr>\n",
       "    <tr>\n",
       "      <th>4</th>\n",
       "      <td>male</td>\n",
       "      <td>no</td>\n",
       "      <td>no</td>\n",
       "      <td>young_adult</td>\n",
       "      <td>overweight</td>\n",
       "    </tr>\n",
       "  </tbody>\n",
       "</table>\n",
       "</div>"
      ],
      "text/plain": [
       "      sex smoker have_children   age_binned  bmi_binned\n",
       "0  female    yes            no   adolescent  overweight\n",
       "1    male     no           yes   adolescent     obesity\n",
       "2    male     no           yes  young_adult     obesity\n",
       "3    male     no            no  young_adult     healthy\n",
       "4    male     no            no  young_adult  overweight"
      ]
     },
     "execution_count": 304,
     "metadata": {
      "tags": []
     },
     "output_type": "execute_result"
    }
   ],
   "source": [
    "cat_features.head()"
   ]
  },
  {
   "cell_type": "markdown",
   "metadata": {
    "colab_type": "text",
    "id": "cN_r0HJl_tmu"
   },
   "source": [
    "We'll try two models: 1st - where features **bmi_binned** and **age_binned** are taken into account and our data will represent sparse matrix, 2nd - they don't. Because on the one hand these features expand our model and we may have for instance high R2 score, on the other hand we may have multicollinearity (for instance between **age** and different **age_binned**)."
   ]
  },
  {
   "cell_type": "code",
   "execution_count": 0,
   "metadata": {
    "colab": {},
    "colab_type": "code",
    "id": "KcXij8rCrCv7"
   },
   "outputs": [],
   "source": [
    "cat_features_1 = cat_features.drop(['age_binned', 'bmi_binned'], axis=1)"
   ]
  },
  {
   "cell_type": "code",
   "execution_count": 0,
   "metadata": {
    "colab": {},
    "colab_type": "code",
    "id": "XTLbCut_rSaX"
   },
   "outputs": [],
   "source": [
    "cat_features_1 = pd.get_dummies(cat_features_1, drop_first=True)"
   ]
  },
  {
   "cell_type": "code",
   "execution_count": 305,
   "metadata": {
    "colab": {
     "base_uri": "https://localhost:8080/",
     "height": 202
    },
    "colab_type": "code",
    "id": "gxyCTHp9BDv4",
    "outputId": "5c8645e8-7f40-4059-a3df-51dca9e94837"
   },
   "outputs": [
    {
     "data": {
      "text/html": [
       "<div>\n",
       "<style scoped>\n",
       "    .dataframe tbody tr th:only-of-type {\n",
       "        vertical-align: middle;\n",
       "    }\n",
       "\n",
       "    .dataframe tbody tr th {\n",
       "        vertical-align: top;\n",
       "    }\n",
       "\n",
       "    .dataframe thead th {\n",
       "        text-align: right;\n",
       "    }\n",
       "</style>\n",
       "<table border=\"1\" class=\"dataframe\">\n",
       "  <thead>\n",
       "    <tr style=\"text-align: right;\">\n",
       "      <th></th>\n",
       "      <th>sex_male</th>\n",
       "      <th>smoker_yes</th>\n",
       "      <th>have_children_yes</th>\n",
       "    </tr>\n",
       "  </thead>\n",
       "  <tbody>\n",
       "    <tr>\n",
       "      <th>0</th>\n",
       "      <td>0</td>\n",
       "      <td>1</td>\n",
       "      <td>0</td>\n",
       "    </tr>\n",
       "    <tr>\n",
       "      <th>1</th>\n",
       "      <td>1</td>\n",
       "      <td>0</td>\n",
       "      <td>1</td>\n",
       "    </tr>\n",
       "    <tr>\n",
       "      <th>2</th>\n",
       "      <td>1</td>\n",
       "      <td>0</td>\n",
       "      <td>1</td>\n",
       "    </tr>\n",
       "    <tr>\n",
       "      <th>3</th>\n",
       "      <td>1</td>\n",
       "      <td>0</td>\n",
       "      <td>0</td>\n",
       "    </tr>\n",
       "    <tr>\n",
       "      <th>4</th>\n",
       "      <td>1</td>\n",
       "      <td>0</td>\n",
       "      <td>0</td>\n",
       "    </tr>\n",
       "  </tbody>\n",
       "</table>\n",
       "</div>"
      ],
      "text/plain": [
       "   sex_male  smoker_yes  have_children_yes\n",
       "0         0           1                  0\n",
       "1         1           0                  1\n",
       "2         1           0                  1\n",
       "3         1           0                  0\n",
       "4         1           0                  0"
      ]
     },
     "execution_count": 305,
     "metadata": {
      "tags": []
     },
     "output_type": "execute_result"
    }
   ],
   "source": [
    "cat_features_1.head()"
   ]
  },
  {
   "cell_type": "code",
   "execution_count": 0,
   "metadata": {
    "colab": {},
    "colab_type": "code",
    "id": "xeLJ-tBaAfHR"
   },
   "outputs": [],
   "source": [
    "cat_features_2 = pd.get_dummies(cat_features, drop_first=True)"
   ]
  },
  {
   "cell_type": "code",
   "execution_count": 308,
   "metadata": {
    "colab": {
     "base_uri": "https://localhost:8080/",
     "height": 222
    },
    "colab_type": "code",
    "id": "Y3EeqKCyhVWo",
    "outputId": "547a570d-ee37-40a4-f167-21c0ca3b4bd3"
   },
   "outputs": [
    {
     "data": {
      "text/html": [
       "<div>\n",
       "<style scoped>\n",
       "    .dataframe tbody tr th:only-of-type {\n",
       "        vertical-align: middle;\n",
       "    }\n",
       "\n",
       "    .dataframe tbody tr th {\n",
       "        vertical-align: top;\n",
       "    }\n",
       "\n",
       "    .dataframe thead th {\n",
       "        text-align: right;\n",
       "    }\n",
       "</style>\n",
       "<table border=\"1\" class=\"dataframe\">\n",
       "  <thead>\n",
       "    <tr style=\"text-align: right;\">\n",
       "      <th></th>\n",
       "      <th>sex_male</th>\n",
       "      <th>smoker_yes</th>\n",
       "      <th>have_children_yes</th>\n",
       "      <th>age_binned_young_adult</th>\n",
       "      <th>age_binned_middle_adult</th>\n",
       "      <th>age_binned_old_person</th>\n",
       "      <th>bmi_binned_healthy</th>\n",
       "      <th>bmi_binned_overweight</th>\n",
       "      <th>bmi_binned_obesity</th>\n",
       "    </tr>\n",
       "  </thead>\n",
       "  <tbody>\n",
       "    <tr>\n",
       "      <th>0</th>\n",
       "      <td>0</td>\n",
       "      <td>1</td>\n",
       "      <td>0</td>\n",
       "      <td>0</td>\n",
       "      <td>0</td>\n",
       "      <td>0</td>\n",
       "      <td>0</td>\n",
       "      <td>1</td>\n",
       "      <td>0</td>\n",
       "    </tr>\n",
       "    <tr>\n",
       "      <th>1</th>\n",
       "      <td>1</td>\n",
       "      <td>0</td>\n",
       "      <td>1</td>\n",
       "      <td>0</td>\n",
       "      <td>0</td>\n",
       "      <td>0</td>\n",
       "      <td>0</td>\n",
       "      <td>0</td>\n",
       "      <td>1</td>\n",
       "    </tr>\n",
       "    <tr>\n",
       "      <th>2</th>\n",
       "      <td>1</td>\n",
       "      <td>0</td>\n",
       "      <td>1</td>\n",
       "      <td>1</td>\n",
       "      <td>0</td>\n",
       "      <td>0</td>\n",
       "      <td>0</td>\n",
       "      <td>0</td>\n",
       "      <td>1</td>\n",
       "    </tr>\n",
       "    <tr>\n",
       "      <th>3</th>\n",
       "      <td>1</td>\n",
       "      <td>0</td>\n",
       "      <td>0</td>\n",
       "      <td>1</td>\n",
       "      <td>0</td>\n",
       "      <td>0</td>\n",
       "      <td>1</td>\n",
       "      <td>0</td>\n",
       "      <td>0</td>\n",
       "    </tr>\n",
       "    <tr>\n",
       "      <th>4</th>\n",
       "      <td>1</td>\n",
       "      <td>0</td>\n",
       "      <td>0</td>\n",
       "      <td>1</td>\n",
       "      <td>0</td>\n",
       "      <td>0</td>\n",
       "      <td>0</td>\n",
       "      <td>1</td>\n",
       "      <td>0</td>\n",
       "    </tr>\n",
       "  </tbody>\n",
       "</table>\n",
       "</div>"
      ],
      "text/plain": [
       "   sex_male  smoker_yes  ...  bmi_binned_overweight  bmi_binned_obesity\n",
       "0         0           1  ...                      1                   0\n",
       "1         1           0  ...                      0                   1\n",
       "2         1           0  ...                      0                   1\n",
       "3         1           0  ...                      0                   0\n",
       "4         1           0  ...                      1                   0\n",
       "\n",
       "[5 rows x 9 columns]"
      ]
     },
     "execution_count": 308,
     "metadata": {
      "tags": []
     },
     "output_type": "execute_result"
    }
   ],
   "source": [
    "cat_features_2.head()"
   ]
  },
  {
   "cell_type": "code",
   "execution_count": 0,
   "metadata": {
    "colab": {},
    "colab_type": "code",
    "id": "Vwq5fqH5hbmJ"
   },
   "outputs": [],
   "source": [
    "X_1 = pd.concat([cat_features_1, num_features], axis=1)"
   ]
  },
  {
   "cell_type": "code",
   "execution_count": 0,
   "metadata": {
    "colab": {},
    "colab_type": "code",
    "id": "q27mW-E8rXa-"
   },
   "outputs": [],
   "source": [
    "X_2 = pd.concat([cat_features_2, num_features], axis=1)"
   ]
  },
  {
   "cell_type": "markdown",
   "metadata": {
    "colab_type": "text",
    "id": "IgxzDbOKicD6"
   },
   "source": [
    "Here we have fully numerical train data. Let's look at the correlation matrix."
   ]
  },
  {
   "cell_type": "code",
   "execution_count": 264,
   "metadata": {
    "colab": {
     "base_uri": "https://localhost:8080/",
     "height": 202
    },
    "colab_type": "code",
    "id": "CTt-9igth06I",
    "outputId": "f121f63e-c10e-4c63-875d-d3e05759c915"
   },
   "outputs": [
    {
     "data": {
      "text/html": [
       "<div>\n",
       "<style scoped>\n",
       "    .dataframe tbody tr th:only-of-type {\n",
       "        vertical-align: middle;\n",
       "    }\n",
       "\n",
       "    .dataframe tbody tr th {\n",
       "        vertical-align: top;\n",
       "    }\n",
       "\n",
       "    .dataframe thead th {\n",
       "        text-align: right;\n",
       "    }\n",
       "</style>\n",
       "<table border=\"1\" class=\"dataframe\">\n",
       "  <thead>\n",
       "    <tr style=\"text-align: right;\">\n",
       "      <th></th>\n",
       "      <th>sex_male</th>\n",
       "      <th>smoker_yes</th>\n",
       "      <th>have_children_yes</th>\n",
       "      <th>age_norm</th>\n",
       "      <th>bmi_norm</th>\n",
       "    </tr>\n",
       "  </thead>\n",
       "  <tbody>\n",
       "    <tr>\n",
       "      <th>0</th>\n",
       "      <td>0</td>\n",
       "      <td>1</td>\n",
       "      <td>0</td>\n",
       "      <td>-1.436484</td>\n",
       "      <td>-0.450173</td>\n",
       "    </tr>\n",
       "    <tr>\n",
       "      <th>1</th>\n",
       "      <td>1</td>\n",
       "      <td>0</td>\n",
       "      <td>1</td>\n",
       "      <td>-1.507623</td>\n",
       "      <td>0.514611</td>\n",
       "    </tr>\n",
       "    <tr>\n",
       "      <th>2</th>\n",
       "      <td>1</td>\n",
       "      <td>0</td>\n",
       "      <td>1</td>\n",
       "      <td>-0.796238</td>\n",
       "      <td>0.388055</td>\n",
       "    </tr>\n",
       "    <tr>\n",
       "      <th>3</th>\n",
       "      <td>1</td>\n",
       "      <td>0</td>\n",
       "      <td>0</td>\n",
       "      <td>-0.440546</td>\n",
       "      <td>-1.304015</td>\n",
       "    </tr>\n",
       "    <tr>\n",
       "      <th>4</th>\n",
       "      <td>1</td>\n",
       "      <td>0</td>\n",
       "      <td>0</td>\n",
       "      <td>-0.511684</td>\n",
       "      <td>-0.289101</td>\n",
       "    </tr>\n",
       "  </tbody>\n",
       "</table>\n",
       "</div>"
      ],
      "text/plain": [
       "   sex_male  smoker_yes  have_children_yes  age_norm  bmi_norm\n",
       "0         0           1                  0 -1.436484 -0.450173\n",
       "1         1           0                  1 -1.507623  0.514611\n",
       "2         1           0                  1 -0.796238  0.388055\n",
       "3         1           0                  0 -0.440546 -1.304015\n",
       "4         1           0                  0 -0.511684 -0.289101"
      ]
     },
     "execution_count": 264,
     "metadata": {
      "tags": []
     },
     "output_type": "execute_result"
    }
   ],
   "source": [
    "X_1.head()"
   ]
  },
  {
   "cell_type": "code",
   "execution_count": 0,
   "metadata": {
    "colab": {},
    "colab_type": "code",
    "id": "9-5A8311VoA7"
   },
   "outputs": [],
   "source": [
    "corr_matrix1 = pd.concat([X_1, y], axis=1)\n",
    "corr_matrix2 = pd.concat([X_2, y], axis=1)"
   ]
  },
  {
   "cell_type": "code",
   "execution_count": 0,
   "metadata": {
    "colab": {},
    "colab_type": "code",
    "id": "ryV8wjcqXrjx"
   },
   "outputs": [],
   "source": [
    "mask1 = np.zeros_like(corr_matrix1.corr())\n",
    "mask1[np.triu_indices_from(mask1)] = True"
   ]
  },
  {
   "cell_type": "code",
   "execution_count": 0,
   "metadata": {
    "colab": {},
    "colab_type": "code",
    "id": "p5Ta6akWBknk"
   },
   "outputs": [],
   "source": [
    "mask2 = np.zeros_like(corr_matrix2.corr())\n",
    "mask2[np.triu_indices_from(mask2)] = True"
   ]
  },
  {
   "cell_type": "markdown",
   "metadata": {
    "colab_type": "text",
    "id": "ltoh1Q-lYc06"
   },
   "source": [
    "Analyzing two correlation matrices we can conclude: 1) there's no corr between target and **sex** feature in both matrices;  2) as I thought, in the 2nd model we have correlation between its features (**age_norm** and **bmi_norm** have above the average corr with some **age_binned** and **bmmi_binned** features)."
   ]
  },
  {
   "cell_type": "code",
   "execution_count": 312,
   "metadata": {
    "colab": {
     "base_uri": "https://localhost:8080/",
     "height": 889
    },
    "colab_type": "code",
    "id": "s0KlHRlFijV4",
    "outputId": "106f91c3-c343-431f-fdc9-e9b7b361457c"
   },
   "outputs": [
    {
     "data": {
      "text/plain": [
       "<matplotlib.axes._subplots.AxesSubplot at 0x7f30b03ceda0>"
      ]
     },
     "execution_count": 312,
     "metadata": {
      "tags": []
     },
     "output_type": "execute_result"
    },
    {
     "data": {
      "image/png": "[encoded data removed]",
      "text/plain": [
       "<Figure size 1080x936 with 4 Axes>"
      ]
     },
     "metadata": {
      "needs_background": "light",
      "tags": []
     },
     "output_type": "display_data"
    }
   ],
   "source": [
    "fig, axes = plt.subplots(nrows=2, figsize=(15, 13))\n",
    "sns.heatmap(corr_matrix1.corr(), annot=True, mask=mask1, ax=axes[0])\n",
    "sns.heatmap(corr_matrix2.corr(), annot=True, mask=mask2, ax=axes[1])"
   ]
  },
  {
   "cell_type": "markdown",
   "metadata": {
    "colab_type": "text",
    "id": "A8DwIQ2papOy"
   },
   "source": [
    "Just for an experiment we can add some interactions between features and look again at the corr_matrix."
   ]
  },
  {
   "cell_type": "markdown",
   "metadata": {
    "colab_type": "text",
    "id": "91ti1AniLit6"
   },
   "source": [
    "We're ready for the 2nd part - **building a model**. We'll use train_test_split and try different models with tuning. Also we'll make statistical tests to choose between two models. Unfrotunately, we don't have much data to be sure that our predictions will be correct, but we'll see it."
   ]
  },
  {
   "cell_type": "code",
   "execution_count": 0,
   "metadata": {
    "colab": {},
    "colab_type": "code",
    "id": "vCsf87RgNE7F"
   },
   "outputs": [],
   "source": [
    "from sklearn.model_selection import train_test_split, GridSearchCV\n",
    "from sklearn.kernel_ridge import KernelRidge\n",
    "from sklearn.linear_model import Ridge\n",
    "from sklearn.svm import SVR\n",
    "from sklearn.ensemble import RandomForestRegressor\n",
    "from sklearn.metrics import r2_score, mean_squared_error, mean_absolute_error"
   ]
  },
  {
   "cell_type": "code",
   "execution_count": 0,
   "metadata": {
    "colab": {},
    "colab_type": "code",
    "id": "qjro7N60cOzB"
   },
   "outputs": [],
   "source": [
    "import statsmodels.api as sm "
   ]
  },
  {
   "cell_type": "markdown",
   "metadata": {
    "colab_type": "text",
    "id": "vU1_uhS7Ywqi"
   },
   "source": [
    "We'll start with **model_1**."
   ]
  },
  {
   "cell_type": "code",
   "execution_count": 0,
   "metadata": {
    "colab": {},
    "colab_type": "code",
    "id": "8p3Q3gcYOyzs"
   },
   "outputs": [],
   "source": [
    "X_train, X_test, y_train, y_test = train_test_split(X_1, y, test_size = 0.25, random_state=42) "
   ]
  },
  {
   "cell_type": "code",
   "execution_count": 274,
   "metadata": {
    "colab": {
     "base_uri": "https://localhost:8080/",
     "height": 35
    },
    "colab_type": "code",
    "id": "JsF-5yU-OynV",
    "outputId": "1f686b02-8104-4b53-8f7b-bc1b6aa45791"
   },
   "outputs": [
    {
     "data": {
      "text/plain": [
       "((999, 5), (334, 5), (334,), (999,))"
      ]
     },
     "execution_count": 274,
     "metadata": {
      "tags": []
     },
     "output_type": "execute_result"
    }
   ],
   "source": [
    "X_train.shape, X_test.shape, y_test.shape, y_train.shape"
   ]
  },
  {
   "cell_type": "code",
   "execution_count": 0,
   "metadata": {
    "colab": {},
    "colab_type": "code",
    "id": "NiLX9dNd1TtQ"
   },
   "outputs": [],
   "source": [
    "X = sm.add_constant(X_train)"
   ]
  },
  {
   "cell_type": "code",
   "execution_count": 0,
   "metadata": {
    "colab": {},
    "colab_type": "code",
    "id": "QwneiCcIuIjD"
   },
   "outputs": [],
   "source": [
    "model_1 = sm.OLS(y_train, X)"
   ]
  },
  {
   "cell_type": "markdown",
   "metadata": {
    "colab_type": "text",
    "id": "4OkQnunKJ7M6"
   },
   "source": [
    "We have: **R^2 score** (0.75) isn't big; all coeffs are significant, but **sex_male** p-value is significant only at 0.05 level;"
   ]
  },
  {
   "cell_type": "code",
   "execution_count": 292,
   "metadata": {
    "colab": {
     "base_uri": "https://localhost:8080/",
     "height": 520
    },
    "colab_type": "code",
    "id": "TjDMhVAK2Lm4",
    "outputId": "2b95d104-95d8-41ae-86c1-bbdef14989d1"
   },
   "outputs": [
    {
     "name": "stdout",
     "output_type": "stream",
     "text": [
      "                            OLS Regression Results                            \n",
      "==============================================================================\n",
      "Dep. Variable:            log_charges   R-squared:                       0.751\n",
      "Model:                            OLS   Adj. R-squared:                  0.749\n",
      "Method:                 Least Squares   F-statistic:                     598.2\n",
      "Date:                Fri, 29 May 2020   Prob (F-statistic):          1.46e-296\n",
      "Time:                        11:26:54   Log-Likelihood:                -629.32\n",
      "No. Observations:                 999   AIC:                             1271.\n",
      "Df Residuals:                     993   BIC:                             1300.\n",
      "Df Model:                           5                                         \n",
      "Covariance Type:            nonrobust                                         \n",
      "=====================================================================================\n",
      "                        coef    std err          t      P>|t|      [0.025      0.975]\n",
      "-------------------------------------------------------------------------------------\n",
      "const                 8.6898      0.027    320.436      0.000       8.637       8.743\n",
      "sex_male             -0.0592      0.029     -2.045      0.041      -0.116      -0.002\n",
      "smoker_yes            1.5233      0.036     42.192      0.000       1.452       1.594\n",
      "have_children_yes     0.2194      0.029      7.507      0.000       0.162       0.277\n",
      "age_norm              0.4850      0.015     33.435      0.000       0.457       0.513\n",
      "bmi_norm              0.0714      0.015      4.925      0.000       0.043       0.100\n",
      "==============================================================================\n",
      "Omnibus:                      334.080   Durbin-Watson:                   2.018\n",
      "Prob(Omnibus):                  0.000   Jarque-Bera (JB):             1141.106\n",
      "Skew:                           1.616   Prob(JB):                    1.63e-248\n",
      "Kurtosis:                       7.119   Cond. No.                         3.53\n",
      "==============================================================================\n",
      "\n",
      "Warnings:\n",
      "[1] Standard Errors assume that the covariance matrix of the errors is correctly specified.\n"
     ]
    }
   ],
   "source": [
    "results_1 = model_1.fit()\n",
    "print(results_1.summary())"
   ]
  },
  {
   "cell_type": "markdown",
   "metadata": {
    "colab_type": "text",
    "id": "qBoiMZnPT6PK"
   },
   "source": [
    "Let's add some interactions."
   ]
  },
  {
   "cell_type": "code",
   "execution_count": 0,
   "metadata": {
    "colab": {},
    "colab_type": "code",
    "id": "5Uc2ML5RQS-2"
   },
   "outputs": [],
   "source": [
    "train_data = pd.concat([X_train, y], axis=1) "
   ]
  },
  {
   "cell_type": "code",
   "execution_count": 0,
   "metadata": {
    "colab": {},
    "colab_type": "code",
    "id": "OQ8r3xVdQTZp"
   },
   "outputs": [],
   "source": [
    "model_1_inter = sm.OLS.from_formula('log_charges~ sex_male+smoker_yes+smoker_yes:bmi_norm+age_norm*have_children_yes', data=train_data)"
   ]
  },
  {
   "cell_type": "code",
   "execution_count": 344,
   "metadata": {
    "colab": {
     "base_uri": "https://localhost:8080/",
     "height": 537
    },
    "colab_type": "code",
    "id": "bH1IcAp0RGrt",
    "outputId": "2c50e80c-1df0-46f2-ebb3-40914534799b"
   },
   "outputs": [
    {
     "name": "stdout",
     "output_type": "stream",
     "text": [
      "                            OLS Regression Results                            \n",
      "==============================================================================\n",
      "Dep. Variable:            log_charges   R-squared:                       0.773\n",
      "Model:                            OLS   Adj. R-squared:                  0.771\n",
      "Method:                 Least Squares   F-statistic:                     561.8\n",
      "Date:                Fri, 29 May 2020   Prob (F-statistic):          6.64e-315\n",
      "Time:                        12:13:10   Log-Likelihood:                -583.46\n",
      "No. Observations:                 999   AIC:                             1181.\n",
      "Df Residuals:                     992   BIC:                             1215.\n",
      "Df Model:                           6                                         \n",
      "Covariance Type:            nonrobust                                         \n",
      "==============================================================================================\n",
      "                                 coef    std err          t      P>|t|      [0.025      0.975]\n",
      "----------------------------------------------------------------------------------------------\n",
      "Intercept                      8.6993      0.026    335.662      0.000       8.648       8.750\n",
      "sex_male                      -0.0771      0.028     -2.782      0.005      -0.132      -0.023\n",
      "smoker_yes                     1.5423      0.035     44.631      0.000       1.474       1.610\n",
      "smoker_yes:bmi_norm            0.3066      0.030     10.183      0.000       0.248       0.366\n",
      "age_norm                       0.5462      0.018     30.121      0.000       0.511       0.582\n",
      "have_children_yes              0.2191      0.028      7.847      0.000       0.164       0.274\n",
      "age_norm:have_children_yes    -0.1306      0.028     -4.659      0.000      -0.186      -0.076\n",
      "==============================================================================\n",
      "Omnibus:                      398.493   Durbin-Watson:                   2.082\n",
      "Prob(Omnibus):                  0.000   Jarque-Bera (JB):             1635.197\n",
      "Skew:                           1.881   Prob(JB):                         0.00\n",
      "Kurtosis:                       8.013   Cond. No.                         3.53\n",
      "==============================================================================\n",
      "\n",
      "Warnings:\n",
      "[1] Standard Errors assume that the covariance matrix of the errors is correctly specified.\n"
     ]
    }
   ],
   "source": [
    "results_1_inter = model_1_inter.fit()\n",
    "print(results_1_inter.summary()) #R2 is a little higher"
   ]
  },
  {
   "cell_type": "markdown",
   "metadata": {
    "colab_type": "text",
    "id": "qgp27bY-VARq"
   },
   "source": [
    "So at the significance level of 0.05 we reject hypothesis that model without interactions is better."
   ]
  },
  {
   "cell_type": "code",
   "execution_count": 345,
   "metadata": {
    "colab": {
     "base_uri": "https://localhost:8080/",
     "height": 35
    },
    "colab_type": "code",
    "id": "CaxF2lot2s_7",
    "outputId": "95eceb0d-623a-410b-a2c5-76f2b446ae0b"
   },
   "outputs": [
    {
     "data": {
      "text/plain": [
       "(95.39702413930692, 1.4087788966876785e-21, 1.0)"
      ]
     },
     "execution_count": 345,
     "metadata": {
      "tags": []
     },
     "output_type": "execute_result"
    }
   ],
   "source": [
    "results_1_inter.compare_f_test(results_1) "
   ]
  },
  {
   "cell_type": "markdown",
   "metadata": {
    "colab_type": "text",
    "id": "O1EzWzp6VLE1"
   },
   "source": [
    "Now **model_2**."
   ]
  },
  {
   "cell_type": "code",
   "execution_count": 0,
   "metadata": {
    "colab": {},
    "colab_type": "code",
    "id": "q31l5SN3Kl-l"
   },
   "outputs": [],
   "source": [
    "X_train, X_test, y_train, y_test = train_test_split(X_2, y, test_size = 0.25, random_state=42) "
   ]
  },
  {
   "cell_type": "code",
   "execution_count": 0,
   "metadata": {
    "colab": {},
    "colab_type": "code",
    "id": "A2lmflhIKtUJ"
   },
   "outputs": [],
   "source": [
    "X = sm.add_constant(X_train)"
   ]
  },
  {
   "cell_type": "markdown",
   "metadata": {
    "colab_type": "text",
    "id": "_nKMr6e9MwWp"
   },
   "source": [
    "2nd model has some insignificant values and we have a warning of multicollinearity."
   ]
  },
  {
   "cell_type": "code",
   "execution_count": 352,
   "metadata": {
    "colab": {
     "base_uri": "https://localhost:8080/",
     "height": 711
    },
    "colab_type": "code",
    "id": "zrfedY6q2LYU",
    "outputId": "290ba185-703b-439e-816b-fd9366cf6471"
   },
   "outputs": [
    {
     "name": "stdout",
     "output_type": "stream",
     "text": [
      "                            OLS Regression Results                            \n",
      "==============================================================================\n",
      "Dep. Variable:            log_charges   R-squared:                       0.758\n",
      "Model:                            OLS   Adj. R-squared:                  0.755\n",
      "Method:                 Least Squares   F-statistic:                     257.2\n",
      "Date:                Fri, 29 May 2020   Prob (F-statistic):          1.24e-293\n",
      "Time:                        12:18:11   Log-Likelihood:                -614.75\n",
      "No. Observations:                 999   AIC:                             1255.\n",
      "Df Residuals:                     986   BIC:                             1319.\n",
      "Df Model:                          12                                         \n",
      "Covariance Type:            nonrobust                                         \n",
      "===========================================================================================\n",
      "                              coef    std err          t      P>|t|      [0.025      0.975]\n",
      "-------------------------------------------------------------------------------------------\n",
      "const                       0.2112      0.005     45.082      0.000       0.202       0.220\n",
      "sex_male                   -0.0614      0.029     -2.144      0.032      -0.118      -0.005\n",
      "smoker_yes                  1.5281      0.036     42.721      0.000       1.458       1.598\n",
      "have_children_yes           0.0493      0.048      1.023      0.306      -0.045       0.144\n",
      "age_binned_young_adult      0.1104      0.059      1.883      0.060      -0.005       0.225\n",
      "age_binned_middle_adult     0.1339      0.101      1.325      0.186      -0.064       0.332\n",
      "age_binned_old_person       0.1412      0.148      0.954      0.340      -0.149       0.432\n",
      "bmi_binned_healthy          0.1050      0.123      0.851      0.395      -0.137       0.347\n",
      "bmi_binned_overweight       0.1676      0.128      1.306      0.192      -0.084       0.419\n",
      "bmi_binned_obesity          0.2717      0.143      1.895      0.058      -0.010       0.553\n",
      "age                         0.0735      0.003     21.819      0.000       0.067       0.080\n",
      "bmi                         0.1724      0.004     40.517      0.000       0.164       0.181\n",
      "children                    0.0827      0.019      4.243      0.000       0.044       0.121\n",
      "age_norm                   -0.5836      0.013    -44.552      0.000      -0.609      -0.558\n",
      "bmi_norm                   -1.0352      0.023    -44.372      0.000      -1.081      -0.989\n",
      "==============================================================================\n",
      "Omnibus:                      358.576   Durbin-Watson:                   1.982\n",
      "Prob(Omnibus):                  0.000   Jarque-Bera (JB):             1301.163\n",
      "Skew:                           1.720   Prob(JB):                    2.86e-283\n",
      "Kurtosis:                       7.407   Cond. No.                     2.78e+17\n",
      "==============================================================================\n",
      "\n",
      "Warnings:\n",
      "[1] Standard Errors assume that the covariance matrix of the errors is correctly specified.\n",
      "[2] The smallest eigenvalue is 3.36e-29. This might indicate that there are\n",
      "strong multicollinearity problems or that the design matrix is singular.\n"
     ]
    }
   ],
   "source": [
    "model_2 = sm.OLS(y_train, X)\n",
    "results_2 = model_2.fit()\n",
    "print(results_2.summary())"
   ]
  },
  {
   "cell_type": "markdown",
   "metadata": {
    "colab_type": "text",
    "id": "IgvumLAXYUcz"
   },
   "source": [
    "Our p-value is 1.0! Which tells us the **model_1** with interactions is better than the **model_2**."
   ]
  },
  {
   "cell_type": "code",
   "execution_count": 354,
   "metadata": {
    "colab": {
     "base_uri": "https://localhost:8080/",
     "height": 35
    },
    "colab_type": "code",
    "id": "fLfs_vC2X5um",
    "outputId": "fd433073-231e-4cdd-d704-15b7595200d5"
   },
   "outputs": [
    {
     "data": {
      "text/plain": [
       "(-9.978242365847223, 1.0, 6.0)"
      ]
     },
     "execution_count": 354,
     "metadata": {
      "tags": []
     },
     "output_type": "execute_result"
    }
   ],
   "source": [
    "results_2.compare_f_test(results_1_inter) "
   ]
  },
  {
   "cell_type": "markdown",
   "metadata": {
    "colab_type": "text",
    "id": "1MpVRJ8QY9dZ"
   },
   "source": [
    "Let's add interactions to our train data and try different estimators."
   ]
  },
  {
   "cell_type": "code",
   "execution_count": 355,
   "metadata": {
    "colab": {
     "base_uri": "https://localhost:8080/",
     "height": 156
    },
    "colab_type": "code",
    "id": "QRhIf2JDZG6j",
    "outputId": "792409ff-a284-4e56-ce45-b9e901edbb62"
   },
   "outputs": [
    {
     "data": {
      "text/plain": [
       "Intercept                     8.699309\n",
       "sex_male                     -0.077137\n",
       "smoker_yes                    1.542305\n",
       "smoker_yes:bmi_norm           0.306599\n",
       "age_norm                      0.546184\n",
       "have_children_yes             0.219090\n",
       "age_norm:have_children_yes   -0.130625\n",
       "dtype: float64"
      ]
     },
     "execution_count": 355,
     "metadata": {
      "tags": []
     },
     "output_type": "execute_result"
    }
   ],
   "source": [
    "results_1_inter.params"
   ]
  },
  {
   "cell_type": "code",
   "execution_count": 356,
   "metadata": {
    "colab": {
     "base_uri": "https://localhost:8080/",
     "height": 35
    },
    "colab_type": "code",
    "id": "jfS1CL0OZG3p",
    "outputId": "f43dd6f2-c15e-48ca-ede2-0034a970ecc0"
   },
   "outputs": [
    {
     "data": {
      "text/plain": [
       "Index(['sex_male', 'smoker_yes', 'have_children_yes', 'age_norm', 'bmi_norm'], dtype='object')"
      ]
     },
     "execution_count": 356,
     "metadata": {
      "tags": []
     },
     "output_type": "execute_result"
    }
   ],
   "source": [
    "X_1.keys()"
   ]
  },
  {
   "cell_type": "code",
   "execution_count": 0,
   "metadata": {
    "colab": {},
    "colab_type": "code",
    "id": "0nldtrO1ZG0d"
   },
   "outputs": [],
   "source": [
    "X_1['smoker_yes:bmi_norm'] = X_1.smoker_yes*X_1.bmi_norm\n",
    "X_1['age_norm:have_children_yes'] = X_1.age_norm*X_1.have_children_yes"
   ]
  },
  {
   "cell_type": "code",
   "execution_count": 0,
   "metadata": {
    "colab": {},
    "colab_type": "code",
    "id": "_7VuUhCvbEZU"
   },
   "outputs": [],
   "source": [
    "x_train, x_test, y_train, y_test = train_test_split(X_1, y, test_size=0.25, random_state=42)"
   ]
  },
  {
   "cell_type": "markdown",
   "metadata": {
    "colab_type": "text",
    "id": "D1VKJWFsZv_L"
   },
   "source": [
    "We'll start with **Ridge** and **KernelRidge** regressions to see whether we need penalty or not. We'll use **RMSE** and **R^2 score** as a metric. **RMSE** is 0.3654, not bad."
   ]
  },
  {
   "cell_type": "code",
   "execution_count": 387,
   "metadata": {
    "colab": {
     "base_uri": "https://localhost:8080/",
     "height": 35
    },
    "colab_type": "code",
    "id": "ceUyyWV5iPZZ",
    "outputId": "5562b5b6-6413-4027-c89c-d52cb8a06428"
   },
   "outputs": [
    {
     "data": {
      "text/plain": [
       "(0.3654748683147421, 0.7901788352352546)"
      ]
     },
     "execution_count": 387,
     "metadata": {
      "tags": []
     },
     "output_type": "execute_result"
    }
   ],
   "source": [
    "model = Ridge().fit(x_train, y_train)\n",
    "y_pred = model.predict(x_test)\n",
    "np.sqrt(mean_squared_error(y_test, p)), r2_score(y_test, y_pred)"
   ]
  },
  {
   "cell_type": "code",
   "execution_count": 0,
   "metadata": {
    "colab": {},
    "colab_type": "code",
    "id": "jAwRBU98ZGw_"
   },
   "outputs": [],
   "source": [
    "params_1 = {\n",
    "    'kernel': ['linear', 'poly', 'rbf'],\n",
    "    'gamma': [1, 0.7, 0.5],\n",
    "    'degree': [2,3]\n",
    "}\n",
    "grid_1 = GridSearchCV(KernelRidge(), params_1, scoring='neg_root_mean_squared_error', cv=5).fit(x_train, y_train)"
   ]
  },
  {
   "cell_type": "code",
   "execution_count": 391,
   "metadata": {
    "colab": {
     "base_uri": "https://localhost:8080/",
     "height": 35
    },
    "colab_type": "code",
    "id": "uza2x837bo3x",
    "outputId": "60a3d5d4-6b7a-4ab1-ccf8-832d7abd1a2c"
   },
   "outputs": [
    {
     "data": {
      "text/plain": [
       "{'degree': 2, 'gamma': 0.5, 'kernel': 'poly'}"
      ]
     },
     "execution_count": 391,
     "metadata": {
      "tags": []
     },
     "output_type": "execute_result"
    }
   ],
   "source": [
    "grid_1.best_params_"
   ]
  },
  {
   "cell_type": "markdown",
   "metadata": {
    "colab_type": "text",
    "id": "b9BmBg3Mj4Yb"
   },
   "source": [
    "**RMSE** is a little bit bigger, but **R^2** is higher."
   ]
  },
  {
   "cell_type": "code",
   "execution_count": 392,
   "metadata": {
    "colab": {
     "base_uri": "https://localhost:8080/",
     "height": 35
    },
    "colab_type": "code",
    "id": "TdkYQSNGTxh3",
    "outputId": "a45c3b2c-3663-4056-f2d1-4d9f5f1148cc"
   },
   "outputs": [
    {
     "name": "stdout",
     "output_type": "stream",
     "text": [
      "Loss: 0.36898750302664945, R^2: 0.8403658223368009\n"
     ]
    }
   ],
   "source": [
    "y_pred_1 = grid_1.predict(x_test)\n",
    "print('Loss: {}, R^2: {}'.format(np.sqrt(mean_squared_error(y_test, y_pred_1)), r2_score(y_test, y_pred_1)))"
   ]
  },
  {
   "cell_type": "markdown",
   "metadata": {
    "colab_type": "text",
    "id": "aTt1uFLanoMd"
   },
   "source": [
    "With **SVR** we have RMSE - 0.3635, which is a little bit smaller than with **Ridge** regression."
   ]
  },
  {
   "cell_type": "code",
   "execution_count": 0,
   "metadata": {
    "colab": {},
    "colab_type": "code",
    "id": "PL7rWFYsUxQp"
   },
   "outputs": [],
   "source": [
    "params_2 = {\n",
    "    'kernel': ['poly', 'rbf'],\n",
    "    'degree': [2,3],\n",
    "    'gamma': [0.7, 0.5, 0.3],\n",
    "    'C': [3, 5]  \n",
    "}\n",
    "grid_2 = GridSearchCV(SVR(), params_2, scoring='neg_root_mean_squared_error', cv=5).fit(x_train, y_train)"
   ]
  },
  {
   "cell_type": "code",
   "execution_count": 401,
   "metadata": {
    "colab": {
     "base_uri": "https://localhost:8080/",
     "height": 35
    },
    "colab_type": "code",
    "id": "-W7lEcbhY4gY",
    "outputId": "72bb897d-f052-4863-d47a-1ce55c2fdad0"
   },
   "outputs": [
    {
     "data": {
      "text/plain": [
       "{'C': 3, 'degree': 2, 'gamma': 0.3, 'kernel': 'rbf'}"
      ]
     },
     "execution_count": 401,
     "metadata": {
      "tags": []
     },
     "output_type": "execute_result"
    }
   ],
   "source": [
    "grid_2.best_params_"
   ]
  },
  {
   "cell_type": "code",
   "execution_count": 402,
   "metadata": {
    "colab": {
     "base_uri": "https://localhost:8080/",
     "height": 35
    },
    "colab_type": "code",
    "id": "quxau8pkUxAZ",
    "outputId": "f31129b5-d063-495f-88bc-390b40c46fa0"
   },
   "outputs": [
    {
     "data": {
      "text/plain": [
       "(0.363593808624486, 0.8449986349687342)"
      ]
     },
     "execution_count": 402,
     "metadata": {
      "tags": []
     },
     "output_type": "execute_result"
    }
   ],
   "source": [
    "y_pred_2 = grid_2.predict(x_test)\n",
    "np.sqrt(mean_squared_error(y_test, y_pred_2)), r2_score(y_test, y_pred_2)"
   ]
  },
  {
   "cell_type": "markdown",
   "metadata": {
    "colab_type": "text",
    "id": "cAq6oQR2l2Zk"
   },
   "source": [
    "Now **RandomForest**. As you can see we have here RMSE - 0.3734 which is the worst results of all."
   ]
  },
  {
   "cell_type": "code",
   "execution_count": 0,
   "metadata": {
    "colab": {},
    "colab_type": "code",
    "id": "jZiZfjs5clMn"
   },
   "outputs": [],
   "source": [
    "params_3 = {\n",
    "    'max_depth':[3, 7, 10, 15],\n",
    "    'n_estimators':[100,150,200, 170, 250],\n",
    "    'max_features':['auto', 'log2', 'sqrt'],\n",
    "    'min_samples_split': [2,3,5]\n",
    "}\n",
    "grid_3 = GridSearchCV(RandomForestRegressor(), params_3, scoring='neg_root_mean_squared_error', cv=5).fit(x_train, y_train)"
   ]
  },
  {
   "cell_type": "code",
   "execution_count": 375,
   "metadata": {
    "colab": {
     "base_uri": "https://localhost:8080/",
     "height": 87
    },
    "colab_type": "code",
    "id": "0TUvlD4zd8zN",
    "outputId": "6c83df0b-5787-4ccf-fc5f-3438fa64b4df"
   },
   "outputs": [
    {
     "data": {
      "text/plain": [
       "{'max_depth': 7,\n",
       " 'max_features': 'log2',\n",
       " 'min_samples_split': 2,\n",
       " 'n_estimators': 200}"
      ]
     },
     "execution_count": 375,
     "metadata": {
      "tags": []
     },
     "output_type": "execute_result"
    }
   ],
   "source": [
    "grid_3.best_params_"
   ]
  },
  {
   "cell_type": "code",
   "execution_count": 376,
   "metadata": {
    "colab": {
     "base_uri": "https://localhost:8080/",
     "height": 35
    },
    "colab_type": "code",
    "id": "qSkzAib2clJp",
    "outputId": "e644d4a6-4e05-47e8-b1ef-033c427e8c5e"
   },
   "outputs": [
    {
     "data": {
      "text/plain": [
       "(0.3734854444816342, 0.8364502342631993)"
      ]
     },
     "execution_count": 376,
     "metadata": {
      "tags": []
     },
     "output_type": "execute_result"
    }
   ],
   "source": [
    "y_pred_3 = grid_3.predict(x_test)\n",
    "np.sqrt(mean_squared_error(y_test, y_pred_3)), r2_score(y_test, y_pred_3)"
   ]
  },
  {
   "cell_type": "markdown",
   "metadata": {
    "colab_type": "text",
    "id": "jojRVs-3tbQw"
   },
   "source": [
    "And the last model will be **DNN**. I've different hyperparams and as teh result **RMSE** is a little bit higher in comparison with other results."
   ]
  },
  {
   "cell_type": "code",
   "execution_count": 0,
   "metadata": {
    "colab": {},
    "colab_type": "code",
    "id": "PQTimcuthN8-"
   },
   "outputs": [],
   "source": [
    "from tensorflow.keras.layers import Dense, Dropout\n",
    "from tensorflow.keras.models import Sequential\n",
    "from tensorflow.keras.callbacks import ModelCheckpoint"
   ]
  },
  {
   "cell_type": "code",
   "execution_count": 0,
   "metadata": {
    "colab": {},
    "colab_type": "code",
    "id": "8bHYh57Po6s0"
   },
   "outputs": [],
   "source": [
    "model_tf = Sequential()\n",
    "model_tf.add(Dense(64,activation='relu',input_shape=[len(x_train.keys())]))\n",
    "model_tf.add(Dense(64,activation='relu'))\n",
    "model_tf.add(Dropout(0.2))\n",
    "model_tf.add(Dense(1, activation='linear'))\n",
    "\n",
    "model_tf.compile(loss='mse',optimizer='SGD',metrics=['RootMeanSquaredError'])"
   ]
  },
  {
   "cell_type": "code",
   "execution_count": 0,
   "metadata": {
    "colab": {},
    "colab_type": "code",
    "id": "FmxkGrkIrsJ3"
   },
   "outputs": [],
   "source": [
    "path = 'best_model.h5'\n",
    "checkpoint_callback = ModelCheckpoint(path, \n",
    "                                      monitor='val_root_mean_squared_error',\n",
    "                                      save_best_only=True,\n",
    "                                      verbose=1)"
   ]
  },
  {
   "cell_type": "code",
   "execution_count": 0,
   "metadata": {
    "colab": {},
    "colab_type": "code",
    "id": "Mb8KrgEvqOSm"
   },
   "outputs": [],
   "source": [
    "model_tf.fit(x_train, y_train, batch_size=32, validation_split=0.2,epochs=50,\n",
    "             callbacks=[checkpoint_callback])"
   ]
  },
  {
   "cell_type": "code",
   "execution_count": 0,
   "metadata": {
    "colab": {},
    "colab_type": "code",
    "id": "OAyGVa5lqvHG"
   },
   "outputs": [],
   "source": [
    "model_tf.load_weights(path)"
   ]
  },
  {
   "cell_type": "code",
   "execution_count": 0,
   "metadata": {
    "colab": {},
    "colab_type": "code",
    "id": "gIk1u78as0pW"
   },
   "outputs": [],
   "source": [
    "y_pred_4 = model_tf.predict(x_test)"
   ]
  },
  {
   "cell_type": "code",
   "execution_count": 449,
   "metadata": {
    "colab": {
     "base_uri": "https://localhost:8080/",
     "height": 35
    },
    "colab_type": "code",
    "id": "aBp4j7Qps5XR",
    "outputId": "eba11a72-2531-4fd7-9101-a1130a4522fe"
   },
   "outputs": [
    {
     "data": {
      "text/plain": [
       "(0.3653957626035253, 0.8434584688166881)"
      ]
     },
     "execution_count": 449,
     "metadata": {
      "tags": []
     },
     "output_type": "execute_result"
    }
   ],
   "source": [
    "np.sqrt(mean_squared_error(y_test, y_pred_4)), r2_score(y_test, y_pred_4)"
   ]
  },
  {
   "cell_type": "markdown",
   "metadata": {
    "colab_type": "text",
    "id": "2i45JXqBzxhp"
   },
   "source": [
    "Here is the summary. For the final answer let's take the average of the last 4 models."
   ]
  },
  {
   "cell_type": "code",
   "execution_count": 454,
   "metadata": {
    "colab": {
     "base_uri": "https://localhost:8080/",
     "height": 277
    },
    "colab_type": "code",
    "id": "F6BQ5bQJs90x",
    "outputId": "8b154ebe-5cfd-4543-fadc-e1ab008387d3"
   },
   "outputs": [
    {
     "name": "stdout",
     "output_type": "stream",
     "text": [
      "Model: Ridge.\n",
      " RMSE: 0.4230. R^2: 0.79. MAE: 0.27.\n",
      "\n",
      "Model: KernekRidge.\n",
      " RMSE: 0.3690. R^2: 0.84. MAE: 0.21.\n",
      "\n",
      "Model: SVR.\n",
      " RMSE: 0.3636. R^2: 0.84. MAE: 0.18.\n",
      "\n",
      "Model: RandomForest.\n",
      " RMSE: 0.3735. R^2: 0.84. MAE: 0.21.\n",
      "\n",
      "Model: DNN.\n",
      " RMSE: 0.3654. R^2: 0.84. MAE: 0.21.\n",
      "\n"
     ]
    }
   ],
   "source": [
    "estimators = ['Ridge', 'KernekRidge', 'SVR', 'RandomForest', 'DNN']\n",
    "predictions = [y_pred, y_pred_1, y_pred_2, y_pred_3, y_pred_4]\n",
    "for i in range(5):\n",
    "  print('Model: {}.\\n RMSE: {:.4f}. R^2: {:.2f}. MAE: {:.2f}.'.format(estimators[i],\n",
    "                                                        np.sqrt(mean_squared_error(y_test, predictions[i])),\n",
    "                                                        r2_score(y_test, predictions[i]),\n",
    "                                                        mean_absolute_error(y_test, predictions[i])))\n",
    "  print()"
   ]
  },
  {
   "cell_type": "code",
   "execution_count": 0,
   "metadata": {
    "colab": {},
    "colab_type": "code",
    "id": "rRbwxNFMv5mZ"
   },
   "outputs": [],
   "source": [
    "average_preds = np.column_stack((y_pred_1, y_pred_2, y_pred_3, y_pred_4))"
   ]
  },
  {
   "cell_type": "code",
   "execution_count": 470,
   "metadata": {
    "colab": {
     "base_uri": "https://localhost:8080/",
     "height": 202
    },
    "colab_type": "code",
    "id": "ATQVJDJyzBNn",
    "outputId": "02894a7c-d99d-4109-bc24-01cd16155524"
   },
   "outputs": [
    {
     "data": {
      "text/html": [
       "<div>\n",
       "<style scoped>\n",
       "    .dataframe tbody tr th:only-of-type {\n",
       "        vertical-align: middle;\n",
       "    }\n",
       "\n",
       "    .dataframe tbody tr th {\n",
       "        vertical-align: top;\n",
       "    }\n",
       "\n",
       "    .dataframe thead th {\n",
       "        text-align: right;\n",
       "    }\n",
       "</style>\n",
       "<table border=\"1\" class=\"dataframe\">\n",
       "  <thead>\n",
       "    <tr style=\"text-align: right;\">\n",
       "      <th></th>\n",
       "      <th>KernelRidge</th>\n",
       "      <th>SVR</th>\n",
       "      <th>RandomForest</th>\n",
       "      <th>DNN</th>\n",
       "    </tr>\n",
       "  </thead>\n",
       "  <tbody>\n",
       "    <tr>\n",
       "      <th>0</th>\n",
       "      <td>10.864995</td>\n",
       "      <td>10.619151</td>\n",
       "      <td>10.710119</td>\n",
       "      <td>10.880288</td>\n",
       "    </tr>\n",
       "    <tr>\n",
       "      <th>1</th>\n",
       "      <td>9.027598</td>\n",
       "      <td>8.973079</td>\n",
       "      <td>8.958302</td>\n",
       "      <td>8.974766</td>\n",
       "    </tr>\n",
       "    <tr>\n",
       "      <th>2</th>\n",
       "      <td>8.777129</td>\n",
       "      <td>8.874236</td>\n",
       "      <td>8.918456</td>\n",
       "      <td>8.985731</td>\n",
       "    </tr>\n",
       "    <tr>\n",
       "      <th>3</th>\n",
       "      <td>10.424726</td>\n",
       "      <td>10.684245</td>\n",
       "      <td>10.522395</td>\n",
       "      <td>10.463915</td>\n",
       "    </tr>\n",
       "    <tr>\n",
       "      <th>4</th>\n",
       "      <td>8.571021</td>\n",
       "      <td>8.503308</td>\n",
       "      <td>8.570402</td>\n",
       "      <td>8.561272</td>\n",
       "    </tr>\n",
       "  </tbody>\n",
       "</table>\n",
       "</div>"
      ],
      "text/plain": [
       "   KernelRidge        SVR  RandomForest        DNN\n",
       "0    10.864995  10.619151     10.710119  10.880288\n",
       "1     9.027598   8.973079      8.958302   8.974766\n",
       "2     8.777129   8.874236      8.918456   8.985731\n",
       "3    10.424726  10.684245     10.522395  10.463915\n",
       "4     8.571021   8.503308      8.570402   8.561272"
      ]
     },
     "execution_count": 470,
     "metadata": {
      "tags": []
     },
     "output_type": "execute_result"
    }
   ],
   "source": [
    "average_preds = pd.DataFrame(average_preds, columns=['KernelRidge', 'SVR', 'RandomForest', 'DNN'])\n",
    "average_preds.head()"
   ]
  },
  {
   "cell_type": "code",
   "execution_count": 0,
   "metadata": {
    "colab": {},
    "colab_type": "code",
    "id": "oWuuTcryziU3"
   },
   "outputs": [],
   "source": [
    "preds = average_preds.mean(axis=1)"
   ]
  },
  {
   "cell_type": "code",
   "execution_count": 0,
   "metadata": {
    "colab": {},
    "colab_type": "code",
    "id": "DakWD7K02Kn1"
   },
   "outputs": [],
   "source": [
    "test = y_test.reset_index(drop=True)"
   ]
  },
  {
   "cell_type": "code",
   "execution_count": 502,
   "metadata": {
    "colab": {
     "base_uri": "https://localhost:8080/",
     "height": 35
    },
    "colab_type": "code",
    "id": "1uYWgJZiydFr",
    "outputId": "9cd211c0-647e-4826-a6c5-2e6bc47eea7b"
   },
   "outputs": [
    {
     "name": "stdout",
     "output_type": "stream",
     "text": [
      "Average RMSE with the best 4 models: 0.3605\n"
     ]
    }
   ],
   "source": [
    "print('Average RMSE with the best 4 models: {:.4f}'.format(np.sqrt(mean_squared_error(y_test, preds))))"
   ]
  },
  {
   "cell_type": "markdown",
   "metadata": {
    "colab_type": "text",
    "id": "UxXbkjxo47eq"
   },
   "source": [
    "We may have a look at the real numbers of test and predicted values by taking exp."
   ]
  },
  {
   "cell_type": "code",
   "execution_count": 497,
   "metadata": {
    "colab": {
     "base_uri": "https://localhost:8080/",
     "height": 202
    },
    "colab_type": "code",
    "id": "QguaGJZ00ZvC",
    "outputId": "81621d1b-45a7-411e-900c-1bb16a730567"
   },
   "outputs": [
    {
     "data": {
      "text/html": [
       "<div>\n",
       "<style scoped>\n",
       "    .dataframe tbody tr th:only-of-type {\n",
       "        vertical-align: middle;\n",
       "    }\n",
       "\n",
       "    .dataframe tbody tr th {\n",
       "        vertical-align: top;\n",
       "    }\n",
       "\n",
       "    .dataframe thead th {\n",
       "        text-align: right;\n",
       "    }\n",
       "</style>\n",
       "<table border=\"1\" class=\"dataframe\">\n",
       "  <thead>\n",
       "    <tr style=\"text-align: right;\">\n",
       "      <th></th>\n",
       "      <th>Test y</th>\n",
       "      <th>Predicted y</th>\n",
       "    </tr>\n",
       "  </thead>\n",
       "  <tbody>\n",
       "    <tr>\n",
       "      <th>0</th>\n",
       "      <td>48673.5588</td>\n",
       "      <td>47507.280459</td>\n",
       "    </tr>\n",
       "    <tr>\n",
       "      <th>1</th>\n",
       "      <td>7045.4990</td>\n",
       "      <td>7969.969716</td>\n",
       "    </tr>\n",
       "    <tr>\n",
       "      <th>2</th>\n",
       "      <td>6474.0130</td>\n",
       "      <td>7250.950795</td>\n",
       "    </tr>\n",
       "    <tr>\n",
       "      <th>3</th>\n",
       "      <td>38746.3551</td>\n",
       "      <td>37190.927652</td>\n",
       "    </tr>\n",
       "    <tr>\n",
       "      <th>4</th>\n",
       "      <td>4463.2051</td>\n",
       "      <td>5174.514416</td>\n",
       "    </tr>\n",
       "  </tbody>\n",
       "</table>\n",
       "</div>"
      ],
      "text/plain": [
       "       Test y   Predicted y\n",
       "0  48673.5588  47507.280459\n",
       "1   7045.4990   7969.969716\n",
       "2   6474.0130   7250.950795\n",
       "3  38746.3551  37190.927652\n",
       "4   4463.2051   5174.514416"
      ]
     },
     "execution_count": 497,
     "metadata": {
      "tags": []
     },
     "output_type": "execute_result"
    }
   ],
   "source": [
    "test_predicted = pd.DataFrame({'Test y': np.exp(test),\n",
    "                               'Predicted y': np.exp(preds)})\n",
    "test_predicted.head()"
   ]
  },
  {
   "cell_type": "code",
   "execution_count": 508,
   "metadata": {
    "colab": {
     "base_uri": "https://localhost:8080/",
     "height": 35
    },
    "colab_type": "code",
    "id": "Tbm8HtqH3fWg",
    "outputId": "af5fd0e6-d10e-4436-bfca-66a0ca3dcc22"
   },
   "outputs": [
    {
     "name": "stdout",
     "output_type": "stream",
     "text": [
      "MAE for originall data is 2052\n"
     ]
    }
   ],
   "source": [
    "print('MAE for originall data is {:.0f}'.format(mean_absolute_error(test_predicted['Test y'], test_predicted['Predicted y'])))"
   ]
  },
  {
   "cell_type": "markdown",
   "metadata": {
    "colab_type": "text",
    "id": "dtxeOaxB7HzM"
   },
   "source": [
    "# In conclusion we have:\n",
    "\n",
    "1) we've tried different models and approches of preprocessing and the most \n",
    "important features for us were the age and smoking status;\n",
    "\n",
    "2) the best **RMSE** was achieved by **SVR** regression and it's 0.3635;\n",
    "\n",
    "3) the average **RMSE** is 0.3605;\n",
    "\n",
    "4) our test and predicted values have  differance on average of 2052;\n",
    "\n",
    "The reason for such imperfect results is  a poor amount of data. Even in real life it's difficult to predict person's charges having age, sex and bmi. For instance, we could improve our results if we had information about chronic diseases, job (builders risk their health), ecological situation (quality of water, pollution of the air) and etc."
   ]
  }
 ],
 "metadata": {
  "colab": {
   "collapsed_sections": [],
   "name": "insurance.ipynb",
   "provenance": []
  },
  "kernelspec": {
   "display_name": "Python 3",
   "language": "python",
   "name": "python3"
  },
  "language_info": {
   "codemirror_mode": {
    "name": "ipython",
    "version": 3
   },
   "file_extension": ".py",
   "mimetype": "text/x-python",
   "name": "python",
   "nbconvert_exporter": "python",
   "pygments_lexer": "ipython3",
   "version": "3.7.7"
  }
 },
 "nbformat": 4,
 "nbformat_minor": 1
}
